{
  "nbformat": 4,
  "nbformat_minor": 0,
  "metadata": {
    "colab": {
      "name": "Polynomial_Ridge_Regression.ipynb",
      "provenance": [],
      "collapsed_sections": []
    },
    "kernelspec": {
      "display_name": "Python 3",
      "language": "python",
      "name": "python3"
    },
    "language_info": {
      "codemirror_mode": {
        "name": "ipython",
        "version": 3
      },
      "file_extension": ".py",
      "mimetype": "text/x-python",
      "name": "python",
      "nbconvert_exporter": "python",
      "pygments_lexer": "ipython3",
      "version": "3.7.7"
    }
  },
  "cells": [
    {
      "cell_type": "markdown",
      "metadata": {
        "id": "mzUjMCDFVTwM"
      },
      "source": [
        "# Polynomial Ridge Regression\n",
        "\n",
        "\n",
        "- The task is to build the general architecture of a learning algorithm with OOP in mind:\n",
        "    - Helper functions\n",
        "        - Generation of polynomial_features\n",
        "        - Calculation of Mean Squared Error\n",
        "        - L2 regularization\n",
        "    - Main Model Class\n",
        "        - Initializing parameters\n",
        "        - Training\n",
        "        - Prediction \n"
      ]
    },
    {
      "cell_type": "markdown",
      "metadata": {
        "id": "LULF64T6VTwO"
      },
      "source": [
        "## 1 - Packages ##\n",
        "\n",
        "First, let's run the cell below to import all the packages that you will need during this assignment.\n",
        "- [math](https://docs.python.org/3/library/math.html) - just math ;)\n",
        "- [numpy](www.numpy.org) is the fundamental package for scientific computing with Python.\n",
        "- [matplotlib](http://matplotlib.org) is a famous library to plot graphs in Python."
      ]
    },
    {
      "cell_type": "code",
      "metadata": {
        "id": "LWT237xf5zWs"
      },
      "source": [
        ""
      ],
      "execution_count": null,
      "outputs": []
    },
    {
      "cell_type": "code",
      "metadata": {
        "colab": {
          "resources": {
            "http://localhost:8080/nbextensions/google.colab/files.js": {
              "data": "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",
              "ok": true,
              "headers": [
                [
                  "content-type",
                  "application/javascript"
                ]
              ],
              "status": 200,
              "status_text": ""
            }
          },
          "base_uri": "https://localhost:8080/",
          "height": 72
        },
        "id": "kzfUtoUEVTwP",
        "outputId": "64c6a738-e326-426c-962b-e7e36d59896d"
      },
      "source": [
        "import math\n",
        "import numpy as np\n",
        "import matplotlib.pyplot as plt\n",
        "\n",
        "%matplotlib inline\n",
        "from google.colab import files\n",
        "uploaded = files.upload()"
      ],
      "execution_count": 1,
      "outputs": [
        {
          "output_type": "display_data",
          "data": {
            "text/html": [
              "\n",
              "     <input type=\"file\" id=\"files-0624325e-9802-44d7-847a-78927e8cf5d1\" name=\"files[]\" multiple disabled\n",
              "        style=\"border:none\" />\n",
              "     <output id=\"result-0624325e-9802-44d7-847a-78927e8cf5d1\">\n",
              "      Upload widget is only available when the cell has been executed in the\n",
              "      current browser session. Please rerun this cell to enable.\n",
              "      </output>\n",
              "      <script src=\"/nbextensions/google.colab/files.js\"></script> "
            ],
            "text/plain": [
              "<IPython.core.display.HTML object>"
            ]
          },
          "metadata": {}
        },
        {
          "output_type": "stream",
          "name": "stdout",
          "text": [
            "Saving time_temp_2016.tsv to time_temp_2016.tsv\n"
          ]
        }
      ]
    },
    {
      "cell_type": "markdown",
      "metadata": {
        "id": "MmMjFAFkVTwS"
      },
      "source": [
        "## 2 - Overview of the Problem set ##\n",
        "\n",
        "**Problem Statement**: We are given a dataset  containing:\n",
        "    - a training set of m_train examples\n",
        "    - a test set of m_test examples\n",
        "    - each example is of shape (number of features, 1), in our case (1, 1)\n",
        "\n",
        "Let's get more familiar with the dataset. Load the data by running the following code."
      ]
    },
    {
      "cell_type": "code",
      "metadata": {
        "id": "8xi1q04PVTwT"
      },
      "source": [
        "# Loading the data\n",
        "\n",
        "def load_data():\n",
        "    from sklearn.model_selection import train_test_split\n",
        "\n",
        "    data = np.genfromtxt('time_temp_2016.tsv', delimiter='\\t')\n",
        "    \n",
        "    x = data[:, 0]\n",
        "    x = x.reshape((x.shape[0], 1))\n",
        "    y = data[:, 1]\n",
        "    \n",
        "    train_set_x, test_set_x, train_set_y, test_set_y = train_test_split(x, y, test_size=0.33, random_state=42)\n",
        "    \n",
        "    train_set_y = train_set_y.reshape((1, train_set_y.shape[0]))\n",
        "    test_set_y = test_set_y.reshape((1, test_set_y.shape[0]))\n",
        "    \n",
        "    return train_set_x.T, test_set_x.T, train_set_y, test_set_y, x.T\n",
        "\n",
        "train_set_x, test_set_x, train_set_y, test_set_y, full_feature_set_for_plot = load_data()"
      ],
      "execution_count": 2,
      "outputs": []
    },
    {
      "cell_type": "code",
      "metadata": {
        "colab": {
          "base_uri": "https://localhost:8080/",
          "height": 0
        },
        "id": "sSxdzsspVTwV",
        "outputId": "276a01a4-6455-423b-c770-91d5105c99b3"
      },
      "source": [
        "print(train_set_x.shape, train_set_y.shape, test_set_x.shape, test_set_y.shape)"
      ],
      "execution_count": 3,
      "outputs": [
        {
          "output_type": "stream",
          "name": "stdout",
          "text": [
            "(1, 245) (1, 245) (1, 121) (1, 121)\n"
          ]
        }
      ]
    },
    {
      "cell_type": "markdown",
      "metadata": {
        "id": "Un88y-VcVTwX"
      },
      "source": [
        "Many software bugs in machine learning come from having matrix/vector dimensions that don't fit. If you can keep your matrix/vector dimensions straight you will go a long way toward eliminating many bugs. \n",
        "\n",
        "Let's find the values for:\n",
        "    - m_train (number of training examples)\n",
        "    - m_test (number of test examples)\n"
      ]
    },
    {
      "cell_type": "code",
      "metadata": {
        "colab": {
          "base_uri": "https://localhost:8080/",
          "height": 0
        },
        "id": "SWTf0wbjVTwX",
        "outputId": "0e4a4b7d-4531-4862-b03d-09a5491fcaf9"
      },
      "source": [
        "\n",
        "m_train = train_set_x.shape[1]\n",
        "m_test =  test_set_x.shape[1]\n",
        "\n",
        "print (\"Number of training examples: m_train = \" + str(m_train))\n",
        "print (\"Number of testing examples: m_test = \" + str(m_test))\n",
        "\n",
        "print (\"\\ntrain_set_x shape: \" + str(train_set_x.shape))\n",
        "print (\"train_set_y shape: \" + str(train_set_y.shape))\n",
        "print (\"test_set_x shape: \" + str(test_set_x.shape))\n",
        "print (\"test_set_y shape: \" + str(test_set_y.shape))\n"
      ],
      "execution_count": 4,
      "outputs": [
        {
          "output_type": "stream",
          "name": "stdout",
          "text": [
            "Number of training examples: m_train = 245\n",
            "Number of testing examples: m_test = 121\n",
            "\n",
            "train_set_x shape: (1, 245)\n",
            "train_set_y shape: (1, 245)\n",
            "test_set_x shape: (1, 121)\n",
            "test_set_y shape: (1, 121)\n"
          ]
        }
      ]
    },
    {
      "cell_type": "markdown",
      "metadata": {
        "id": "_FyhDrZFVTwa"
      },
      "source": [
        "**Expected Output for m_train, m_test**: \n",
        "<table style=\"width:15%\">\n",
        "  <tr>\n",
        "      <td><b>m_train</b></td>\n",
        "    <td> 245 </td> \n",
        "  </tr>\n",
        "  \n",
        "  <tr>\n",
        "    <td><b>m_test</b></td>\n",
        "    <td> 121 </td> \n",
        "  </tr>\n",
        "</table>\n"
      ]
    },
    {
      "cell_type": "markdown",
      "metadata": {
        "id": "4Vy7c-vOVTwb"
      },
      "source": [
        "### Data visualization\n",
        "To familiarize oneself with the data obtained, we will plot the `Temperature` as a function of `Day`. Since our `Day` feature was already normalized to 0-1 range, we will multiply it by 366 to restore the correct day of the year. Let's also add different colors to train and test samples to make it fancy."
      ]
    },
    {
      "cell_type": "code",
      "metadata": {
        "colab": {
          "base_uri": "https://localhost:8080/",
          "height": 283
        },
        "id": "veYXpJcCVTwc",
        "outputId": "a0bc2872-271a-47cc-ae55-fc65f035f779"
      },
      "source": [
        "# Color map\n",
        "cmap = plt.get_cmap('viridis')\n",
        "\n",
        "# Plot the results\n",
        "m1 = plt.scatter(366 * train_set_x, train_set_y, color=cmap(0.9), s=10)\n",
        "m2 = plt.scatter(366 * test_set_x, test_set_y, color=cmap(0.5), s=10)\n",
        "plt.xlabel('Day')\n",
        "plt.ylabel('Temperature in Celcius')\n",
        "plt.legend((m1, m2), (\"Training data\", \"Test data\"), loc='lower right')\n",
        "plt.show()"
      ],
      "execution_count": 5,
      "outputs": [
        {
          "output_type": "display_data",
          "data": {
            "image/png": "[encoded data removed]",
            "text/plain": [
              "<Figure size 432x288 with 1 Axes>"
            ]
          },
          "metadata": {
            "needs_background": "light"
          }
        }
      ]
    },
    {
      "cell_type": "markdown",
      "metadata": {
        "id": "XlJmZ8Z7VTwe"
      },
      "source": [
        "## 3 - Polynomial Ridge Regression algorithm\n",
        "**Mathematical expression of the algorithm**:\n",
        "For one example $x^{(i)}$:\n",
        "\n",
        "Main trick of polynomial regression - feature combination under predefined degree.\n",
        "Let's define our $degree = 3$ and $x^{(i)} = (x_{1})$ - so that we have only one feature as in our current dataset for the sake of simplicity(later you will see generalized solution for any amount of features and any degree).\n",
        "\n",
        "So, having $degree = 3$ and $x^{(i)}$ we transform our feature vector to be:\n",
        "$$x^{(i)} = ((x^{(i)})^0, (x^{(i)})^1, (x^{(i)})^2, (x^{(i)})^3)$$\n",
        "\n",
        "Having more than 1 features would cause combinations with replacements for each feature under each degree in range [0, $degree$].\n",
        "\n",
        "After that step we have regular well known process, but in this lab we will use a little trick with bias.\n",
        "Main idea is to use $(x^{(i)})^0 = 1$ as bias variable to each training example. It gives us an ability to count our bias inside of the weights vector on the first position too. \n",
        "\n",
        "So, predictor function:\n",
        "$$h^{(i)} =  w^T x^{(i)} \\tag{1}$$\n",
        "\n",
        "<b>Ridge</b> a.k.a <b>L2 Regularization</b>.\n",
        "Having really high order polynomial function we can easily overfit on our training set.\n",
        "The main technique to prevent overfitting called regularization.\n",
        "You should already be familiar with theory of l2 regularization. Our cost function will look like this:\n",
        "\n",
        "The cost is then computed by summing squared diff over all training examples:\n",
        "$$J = \\frac{1}{2}\\sum_{i=1}^{m}(h^{(i)} - y^{(i)})^{2} + \\frac{1}{2}\\lambda ||w||^2_2\\tag{2}$$\n",
        "\n",
        "Where $\\lambda$ is regularization term and $||w||_2$ is Euclidean norm.\n",
        "\n",
        "Now, only gradient have to be defined.\n",
        "$$X = (x^{(1)}, x^{(2)}, ..., x^{(m-1)}, x^{(m)})$$\n",
        "$$H = w^T X = (h^{(1)}, h^{(2)}, ..., h^{(m-1)}, h^{(m)})$$\n",
        "\n",
        "$$ \\frac{\\partial J}{\\partial w} = X(H-Y)^T + \\lambda w \\tag{3}$$\n",
        "\n"
      ]
    },
    {
      "cell_type": "markdown",
      "metadata": {
        "id": "sm9OfaUdVTwe"
      },
      "source": [
        "### 3.1 Helper utilities"
      ]
    },
    {
      "cell_type": "markdown",
      "metadata": {
        "id": "BCjQsPSKVTwf"
      },
      "source": [
        "In this exercise, you will learn more about custom implemenation of \n",
        "    - Generation of polynomial_features\n",
        "    - Calculation of Mean Squared Error\n",
        "    - L2 regularization\n",
        "\n",
        "Let's get more detailed look at these functions:"
      ]
    },
    {
      "cell_type": "markdown",
      "metadata": {
        "id": "W4MJCQB8VTwg"
      },
      "source": [
        "We create function polynomial_features to transform our flat input features into features of higher degrees.\n",
        "\n",
        "As example for degree=3 and features $(x_1, x_2, x_3)$ we will get:\n",
        "\n",
        "$$((x_1, x_2, x_3),3) -> (1, x_1, x_2, x_3, x^2_1, x_1 x_2, x_1 x_3, x^2_2, x_2 x_3, x^2_3, x^3_1, x^2_1 x_2, x^2_1 x_3,  x_1 x^2_2, x_1 x_2 x_3, x_1 x^2_3, x^3_2, x^2_2 x_3, x_2 x^2_3, x^3_3)$$"
      ]
    },
    {
      "cell_type": "code",
      "metadata": {
        "id": "wEBlvPFPVTwh"
      },
      "source": [
        "def polynomial_features(X, degree):\n",
        "    \n",
        "    from itertools import combinations_with_replacement \n",
        "    # combinations_with_replacement('ABC', 2) --> AA AB AC BB BC CC\n",
        "    \n",
        "    n_features, n_samples = np.shape(X)\n",
        "    \n",
        "    def index_combinations(): ## (1, 2) => [(1),(2),(1,1),(1,2),(2,2)]\n",
        "        combs = [combinations_with_replacement(range(n_features), i) for i in range(0, degree + 1)]\n",
        "        ##comb = [(),((1),(2)),((1,1),(1,2),(2,2))]\n",
        "        flat_combs = [item for sublist in combs for item in sublist]\n",
        "        ##flat_combs = [(1),(2),(1,1),(1,2),(2,2)]\n",
        "        return flat_combs\n",
        "    \n",
        "    combinations = index_combinations()\n",
        "    \n",
        "    n_output_features = len(combinations)\n",
        "    \n",
        "    X_new = np.empty((n_output_features, n_samples))\n",
        "    \n",
        "    for i, index_combs in enumerate(combinations):  \n",
        "        X_new[i, :] = np.prod(X[index_combs, :], axis=0)\n",
        "        ## if index_combs == (1,2,3) =>  X_new[:,i] = X[:,1] * X[:,2] * X[:,3] \n",
        "    return X_new"
      ],
      "execution_count": 6,
      "outputs": []
    },
    {
      "cell_type": "markdown",
      "metadata": {
        "id": "qv5t6eHwVTwj"
      },
      "source": [
        "We will be using mean squared error to evaluate accuracy of our model:\n",
        "\n",
        "$$\n",
        "MSE=\\frac{1}{m}\\sum_{i=1}^{m}{(h^{(i)} - y^{(i)})^2} \n",
        "$$"
      ]
    },
    {
      "cell_type": "code",
      "metadata": {
        "id": "kP8lQFc_VTwk"
      },
      "source": [
        "# GRADED FUNCTION: mean_squared_error\n",
        "\n",
        "def mean_squared_error(y_true, y_pred):\n",
        "    \"\"\" Returns the mean squared error between y_true and y_pred \n",
        "    \n",
        "    Arguments:\n",
        "    y_true -- array of true values\n",
        "    y_pred -- array of predicted values\n",
        "    \n",
        "    Returns:\n",
        "    mse -- mean squared error\n",
        "    \"\"\"\n",
        "    mse = np.sum(np.mean((y_pred - y_true)**2))\n",
        "\n",
        "    return mse"
      ],
      "execution_count": 7,
      "outputs": []
    },
    {
      "cell_type": "code",
      "metadata": {
        "colab": {
          "base_uri": "https://localhost:8080/",
          "height": 0
        },
        "id": "skPGXgmaVTwo",
        "outputId": "335bf882-0c96-4b0c-fbe5-0fe6d2f06605"
      },
      "source": [
        "print (\"mse = \" + str(mean_squared_error(np.array([1, 2, 3, 4]), np.array([2, 3, 4, 6]))))"
      ],
      "execution_count": 8,
      "outputs": [
        {
          "output_type": "stream",
          "name": "stdout",
          "text": [
            "mse = 1.75\n"
          ]
        }
      ]
    },
    {
      "cell_type": "markdown",
      "metadata": {
        "id": "PbTljBKTVTwp"
      },
      "source": [
        "**Expected Output**: \n",
        "<table style=\"width:15%\">\n",
        "    <tr>\n",
        "         <td>\n",
        "             <b>mse</b>\n",
        "         </td>\n",
        "         <td>\n",
        "            1.75\n",
        "         </td>  \n",
        "   </tr>\n",
        "</table>"
      ]
    },
    {
      "cell_type": "markdown",
      "metadata": {
        "id": "-6dWE9CWVTwq"
      },
      "source": [
        "Now we have to compute Ridge Regression a.k.a. L2 Regularization term and derivative\n",
        "\n",
        "The cost function:\n",
        "$$J = \\frac{1}{2}\\sum_{i=1}^{m}(h^{(i)} - y^{(i)})^{2} + \\frac{1}{2}\\lambda ||w||^2_2$$ , where L2 Regularization term is:\n",
        "$$\\frac{1}{2}\\lambda ||w||^2_2$$ \n",
        "\n",
        "And it's derivative:\n",
        "$$\\frac{\\partial (\\frac{1}{2}\\lambda ||w||^2_2)} {\\partial w}  = \\lambda w$$\n",
        "> **Note:** We will use alpha instead of lambda in the code because of python lambda keyword"
      ]
    },
    {
      "cell_type": "code",
      "metadata": {
        "id": "luYMVongVTwr"
      },
      "source": [
        "# GRADED CLASS: l2_regularization\n",
        "\n",
        "class l2_regularization():\n",
        "    \"\"\" Regularization for Ridge Regression \"\"\"\n",
        "    def __init__(self, alpha):\n",
        "        \"\"\" Set alpha \"\"\"\n",
        "        self.alpha = alpha\n",
        "    \n",
        "    def __call__(self, w):\n",
        "        \"\"\" \n",
        "        Computes l2 regularization term\n",
        "        \n",
        "        Arguments:\n",
        "        w -- weights\n",
        "\n",
        "        Returns:\n",
        "        term -- l2 regularization term\n",
        "        \"\"\"\n",
        "        term =  np.sum(self.alpha * (abs(w))**2)/2       \n",
        "        return term\n",
        "\n",
        "    def grad(self, w):\n",
        "        \"\"\" \n",
        "        Computes derivative of l2 regularization term\n",
        "        \n",
        "        Arguments:\n",
        "        w -- weights\n",
        "\n",
        "        Returns:\n",
        "        vector -- derivative of l2 regularization term\n",
        "        \"\"\"\n",
        "        derivative = (self.alpha) * w   \n",
        "        \n",
        "        return derivative"
      ],
      "execution_count": 9,
      "outputs": []
    },
    {
      "cell_type": "code",
      "metadata": {
        "id": "jj9oruDhVTws",
        "colab": {
          "base_uri": "https://localhost:8080/"
        },
        "outputId": "c92317ae-2293-4265-85bd-e88fbb6b82aa"
      },
      "source": [
        "l2 = l2_regularization(0.5)\n",
        "print (\"l2 reg. term = \" + str(l2(np.array([1, 2, 3, 4]))))\n",
        "print (\"l2 grad. = \" + str(l2.grad(np.array([1, 2, 3, 4]))))"
      ],
      "execution_count": null,
      "outputs": [
        {
          "output_type": "stream",
          "name": "stdout",
          "text": [
            "l2 reg. term = 7.5\n",
            "l2 grad. = [0.5 1.  1.5 2. ]\n"
          ]
        }
      ]
    },
    {
      "cell_type": "markdown",
      "metadata": {
        "id": "fp5H5XiKVTwv"
      },
      "source": [
        "**Expected Output**: \n",
        "\n",
        "<table style=\"width:30%\">\n",
        "    <tr>\n",
        "        <td><b>l2 reg. term</b></td>\n",
        "       <td> 7.5 </td>\n",
        "    </tr>\n",
        "    <tr>\n",
        "        <td><b>l2 grad.</b></td>\n",
        "       <td> [0.5 1.  1.5 2. ] </td>\n",
        "    </tr>\n",
        "\n",
        "</table>"
      ]
    },
    {
      "cell_type": "markdown",
      "metadata": {
        "id": "itl-fbgaVTwv"
      },
      "source": [
        "### 3.2 Model"
      ]
    },
    {
      "cell_type": "code",
      "metadata": {
        "id": "8dQSUzNdVTwx"
      },
      "source": [
        "# GRADED CLASS: PolynomialRidgeRegression\n",
        "\n",
        "class PolynomialRidgeRegression(object):\n",
        "    \"\"\"\n",
        "    Parameters:\n",
        "    -----------\n",
        "    degree: int\n",
        "        The degree of the polynomial that the independent variable X will be transformed to.\n",
        "    reg_factor: float\n",
        "        The factor that will determine the amount of regularization and feature\n",
        "        shrinkage. \n",
        "    n_iterations: int\n",
        "        The number of training iterations the algorithm will tune the weights for.\n",
        "    learning_rate: float\n",
        "        The step length that will be used when updating the weights.\n",
        "    \"\"\"\n",
        "    def __init__(self, degree, reg_factor, n_iterations=3000, learning_rate=0.01, print_error=False):\n",
        "        self.degree = degree\n",
        "        self.regularization = l2_regularization(alpha=reg_factor)\n",
        "        self.n_iterations = n_iterations\n",
        "        self.learning_rate = learning_rate\n",
        "        self.print_error = print_error\n",
        "    \n",
        "        \n",
        "    def initialize_with_zeros(self, n_features):\n",
        "        \"\"\"\n",
        "        This function creates a vector of zeros of shape (n_features, 1)\n",
        "        \n",
        "        Arguments:\n",
        "        n_features -- amount of features\n",
        "        \"\"\"\n",
        "        self.w = np.zeros((n_features, 1))\n",
        "\n",
        "        \n",
        "        \n",
        "    def fit(self, X, Y):\n",
        "        ### START CODE HERE ### \n",
        "        # Generate polynomial features\n",
        "        X = polynomial_features(X,self.degree)\n",
        "        \n",
        "        # Create array\n",
        "        self.initialize_with_zeros(n_features=X.shape[0])\n",
        "\n",
        "        # Do gradient descent for n_iterations\n",
        "        for i in range(self.n_iterations):\n",
        "            # Calculate prediction\n",
        "            H = self.w.transpose() @ X\n",
        "\n",
        "            # Gradient of l2 loss w.r.t w\n",
        "            grad_w = X @ (H-Y).transpose() + self.regularization.grad(self.w)\n",
        "\n",
        "            # Update the weights\n",
        "            self.w = self.w - (self.learning_rate * grad_w)\n",
        "\n",
        "            if self.print_error and i % 1000 == 0:\n",
        "                # Calculate l2 loss\n",
        "                mse = mean_squared_error(Y, H)\n",
        "                print (\"MSE after iteration %i: %f\" %(i, mse))\n",
        "        \n",
        "            \n",
        "    def predict(self, X):\n",
        "        # Generate polynomial features\n",
        "        X = polynomial_features(X,self.degree)\n",
        "        \n",
        "        # Calculate prediction)\n",
        "        y_pred = self.w.transpose() @ X\n",
        "        \n",
        "        return y_pred"
      ],
      "execution_count": 10,
      "outputs": []
    },
    {
      "cell_type": "markdown",
      "metadata": {
        "id": "sfOMOLKmVTwz"
      },
      "source": [
        "## 4 - Training"
      ]
    },
    {
      "cell_type": "markdown",
      "metadata": {
        "id": "DMS3RAf3VTwz"
      },
      "source": [
        "First of all, we should define a maximum possible polynomial degree (`poly_degree`),  learning rate (`learning_rate`), a number of iterations (`num_iteration`) and regularization factor (`reg_factor`) for our model. Often `reg_factor` is chosen with help of cross-validation."
      ]
    },
    {
      "cell_type": "code",
      "metadata": {
        "id": "OMp_eKnqVTw0"
      },
      "source": [
        "poly_degree = 15\n",
        "learning_rate = 0.001\n",
        "n_iterations = 10000\n",
        "reg_factor = 0"
      ],
      "execution_count": 11,
      "outputs": []
    },
    {
      "cell_type": "markdown",
      "metadata": {
        "id": "3JPW8kqAVTw2"
      },
      "source": [
        "Now we can initialize our model:"
      ]
    },
    {
      "cell_type": "code",
      "metadata": {
        "id": "27_JfRk5VTw3"
      },
      "source": [
        "model = PolynomialRidgeRegression(\n",
        "    degree=poly_degree, \n",
        "    reg_factor=reg_factor,\n",
        "    learning_rate=learning_rate,\n",
        "    n_iterations=n_iterations,\n",
        "    print_error=True\n",
        ")"
      ],
      "execution_count": 12,
      "outputs": []
    },
    {
      "cell_type": "markdown",
      "metadata": {
        "id": "u9yHZ5LDVTw4"
      },
      "source": [
        "Let's train our model:"
      ]
    },
    {
      "cell_type": "code",
      "metadata": {
        "id": "Kmcc8nSCVTw4",
        "colab": {
          "base_uri": "https://localhost:8080/",
          "height": 0
        },
        "outputId": "26e76e26-deed-4ad2-8680-5966fa5ba143"
      },
      "source": [
        "model.fit(train_set_x, train_set_y)"
      ],
      "execution_count": 13,
      "outputs": [
        {
          "output_type": "stream",
          "name": "stdout",
          "text": [
            "MSE after iteration 0: 127.482367\n",
            "MSE after iteration 1000: 14.175112\n",
            "MSE after iteration 2000: 12.621342\n",
            "MSE after iteration 3000: 12.529237\n",
            "MSE after iteration 4000: 12.512420\n",
            "MSE after iteration 5000: 12.500665\n",
            "MSE after iteration 6000: 12.490181\n",
            "MSE after iteration 7000: 12.480579\n",
            "MSE after iteration 8000: 12.471686\n",
            "MSE after iteration 9000: 12.463369\n"
          ]
        }
      ]
    },
    {
      "cell_type": "markdown",
      "metadata": {
        "id": "FcblItOfVTw6"
      },
      "source": [
        "**Expected Output**: \n",
        "\n",
        "<table style=\"width:50%\"> \n",
        "    <tr>\n",
        "        <td><b>MSE after iteration 0 </b></td> \n",
        "        <td> 127.482367 </td>\n",
        "    </tr>\n",
        "      <tr>\n",
        "        <td> <center> $\\vdots$ </center> </td> \n",
        "        <td> <center> $\\vdots$ </center> </td> \n",
        "    </tr>  \n",
        "    <tr>\n",
        "        <td><b>MSE after iteration 9000</b></td> \n",
        "        <td> 12.620395 </td>\n",
        "    </tr>\n",
        "</table> "
      ]
    },
    {
      "cell_type": "markdown",
      "metadata": {
        "id": "Th6FczyBVTw7"
      },
      "source": [
        "## 4 - Making predictions"
      ]
    },
    {
      "cell_type": "code",
      "metadata": {
        "id": "8gSf84zmVTw8"
      },
      "source": [
        "y_predictions = model.predict(test_set_x)"
      ],
      "execution_count": 14,
      "outputs": []
    },
    {
      "cell_type": "markdown",
      "metadata": {
        "id": "gb8W2Z-JVTw-"
      },
      "source": [
        "Let's calculate mean squred error(MSE):"
      ]
    },
    {
      "cell_type": "code",
      "metadata": {
        "id": "NRTQXtDKVTw-"
      },
      "source": [
        "mse = mean_squared_error(test_set_y, y_predictions)"
      ],
      "execution_count": 15,
      "outputs": []
    },
    {
      "cell_type": "code",
      "metadata": {
        "id": "6eImX7c5VTxA",
        "colab": {
          "base_uri": "https://localhost:8080/",
          "height": 0
        },
        "outputId": "a7705192-2aa9-4d69-b551-c747f1ebe318"
      },
      "source": [
        "print (\"Mean squared error on test set: %s (given by reg. factor: %s)\" % (mse, reg_factor))"
      ],
      "execution_count": 16,
      "outputs": [
        {
          "output_type": "stream",
          "name": "stdout",
          "text": [
            "Mean squared error on test set: 10.943092047135252 (given by reg. factor: 0)\n"
          ]
        }
      ]
    },
    {
      "cell_type": "markdown",
      "metadata": {
        "id": "dVehJnrsVTxB"
      },
      "source": [
        "**Expected Output**: \n",
        "\n",
        "<table style=\"width:30%\"> \n",
        "    <tr>\n",
        "        <td style=\"width:15%\"> <b>MSE</b></td> \n",
        "        <td> 11.025944538386744 </td>\n",
        "    </tr>\n",
        "</table> "
      ]
    },
    {
      "cell_type": "markdown",
      "metadata": {
        "id": "ubgGmdSkVTxC"
      },
      "source": [
        "## 5 - Results visualization"
      ]
    },
    {
      "cell_type": "code",
      "metadata": {
        "id": "s5REMxqxVTxC",
        "colab": {
          "base_uri": "https://localhost:8080/",
          "height": 308
        },
        "outputId": "1f4a9a11-309f-4e14-e233-8c314d0b7c04"
      },
      "source": [
        "# Color map\n",
        "cmap = plt.get_cmap('viridis')\n",
        "\n",
        "# Predict for all points in set\n",
        "y_val = model.predict(full_feature_set_for_plot)\n",
        "\n",
        "# Plot the results\n",
        "m1 = plt.scatter(366 * train_set_x, train_set_y, color=cmap(0.9), s=10)\n",
        "m2 = plt.scatter(366 * test_set_x, test_set_y, color=cmap(0.5), s=10)\n",
        "plt.plot(366 * full_feature_set_for_plot.T, y_val.T, color='black', linewidth=2, label=\"Prediction\")\n",
        "plt.suptitle(\"Polynomial Ridge Regression\")\n",
        "plt.title(\"MSE: %.2f\" % mse, fontsize=10)\n",
        "plt.xlabel('Day')\n",
        "plt.ylabel('Temperature in Celcius')\n",
        "plt.legend((m1, m2), (\"Training data\", \"Test data\"), loc='lower right')\n",
        "plt.show()"
      ],
      "execution_count": 17,
      "outputs": [
        {
          "output_type": "display_data",
          "data": {
            "image/png": "[encoded data removed]",
            "text/plain": [
              "<Figure size 432x288 with 1 Axes>"
            ]
          },
          "metadata": {
            "needs_background": "light"
          }
        }
      ]
    },
    {
      "cell_type": "markdown",
      "metadata": {
        "id": "bIlRbQsgxOsk"
      },
      "source": [
        "## 6 - Conclusion\n",
        "As we can see, our model fits well the hypothesis function to the data. Despite having high-degree polynomials, we prevented overfitting by using the **L2 Regularization** - method for penalizing high magnitudes of parameters estimates. \n",
        "\n"
      ]
    }
  ]
}