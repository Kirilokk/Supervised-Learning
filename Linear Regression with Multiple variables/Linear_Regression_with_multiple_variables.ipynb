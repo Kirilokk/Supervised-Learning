{
  "nbformat": 4,
  "nbformat_minor": 0,
  "metadata": {
    "colab": {
      "name": "Linear_Regression_with_multiple_variables.ipynb",
      "provenance": [],
      "collapsed_sections": [
        "tg0iyuawZ2lj"
      ]
    },
    "kernelspec": {
      "display_name": "Python 3",
      "language": "python",
      "name": "python3"
    },
    "language_info": {
      "codemirror_mode": {
        "name": "ipython",
        "version": 3
      },
      "file_extension": ".py",
      "mimetype": "text/x-python",
      "name": "python",
      "nbconvert_exporter": "python",
      "pygments_lexer": "ipython3",
      "version": "3.7.5"
    }
  },
  "cells": [
    {
      "cell_type": "markdown",
      "metadata": {
        "id": "1QxPChnrZ2kq"
      },
      "source": [
        "# Linear Regression with multiple variables\n"
      ]
    },
    {
      "cell_type": "markdown",
      "metadata": {
        "id": "5OnJ1EHmZ2k4"
      },
      "source": [
        "## 1 - Packages ##\n",
        "\n",
        "First, let's run the cell below to import all the packages that you will need during this assignment.\n",
        "- [numpy](www.numpy.org) is the fundamental package for scientific computing with Python.\n",
        "- [matplotlib](http://matplotlib.org) is a famous library to plot graphs in Python."
      ]
    },
    {
      "cell_type": "code",
      "metadata": {
        "id": "MWcdJ1aKZ2k8",
        "scrolled": false
      },
      "source": [
        "import numpy as np\n",
        "import matplotlib.pyplot as plt\n",
        "\n",
        "%matplotlib inline"
      ],
      "execution_count": null,
      "outputs": []
    },
    {
      "cell_type": "markdown",
      "metadata": {
        "id": "6Ma4OM70Z2lB"
      },
      "source": [
        "## 2 - Overview of the Dataset ##\n",
        "\n",
        " We are given a dataset  containing:\n",
        "    - a training set of m_train examples\n",
        "    - a test set of m_test examples\n",
        "    - each example is of shape (number of features, 1)\n",
        "\n",
        "\n",
        "Boston House Prices dataset\n",
        "===========================\n",
        "\n",
        "Notes\n",
        "------\n",
        "Data Set Characteristics:  \n",
        "\n",
        "    :Number of Instances: 506 \n",
        "\n",
        "    :Number of Attributes: 13 numeric/categorical predictive\n",
        "    \n",
        "    :Median Value (attribute 14) is usually the target\n",
        "\n",
        "    :Attribute Information (in order):\n",
        "        - CRIM     per capita crime rate by town\n",
        "        - ZN       proportion of residential land zoned for lots over 25,000 sq.ft.\n",
        "        - INDUS    proportion of non-retail business acres per town\n",
        "        - CHAS     Charles River dummy variable (= 1 if tract bounds river; 0 otherwise)\n",
        "        - NOX      nitric oxides concentration (parts per 10 million)\n",
        "        - RM       average number of rooms per dwelling\n",
        "        - AGE      proportion of owner-occupied units built prior to 1940\n",
        "        - DIS      weighted distances to five Boston employment centres\n",
        "        - RAD      index of accessibility to radial highways\n",
        "        - TAX      full-value property-tax rate per $10,000\n",
        "    - PTRATIO  pupil-teacher ratio by town\n",
        "    - B        1000(Bk - 0.63)^2 where Bk is the proportion of blacks by town\n",
        "    - LSTAT    % lower status of the population\n",
        "    - MEDV     Median value of owner-occupied homes in $1000's\n",
        "\n",
        "    :Missing Attribute Values: None\n",
        "\n",
        "    :Creator: Harrison, D. and Rubinfeld, D.L.\n",
        "\n",
        "This is a copy of UCI ML housing dataset.\n",
        "https://archive.ics.uci.edu/ml/machine-learning-databases/housing/\n",
        "\n",
        "\n",
        "This dataset was taken from the StatLib library which is maintained at Carnegie Mellon University.\n",
        "\n",
        "The Boston house-price data of Harrison, D. and Rubinfeld, D.L. 'Hedonic\n",
        "prices and the demand for clean air', J. Environ. Economics & Management,\n",
        "vol.5, 81-102, 1978.   Used in Belsley, Kuh & Welsch, 'Regression diagnostics\n",
        "...', Wiley, 1980.   N.B. Various transformations are used in the table on\n",
        "pages 244-261 of the latter.\n",
        "\n",
        "The Boston house-price data has been used in many machine learning papers that address regression\n",
        "problems.   \n",
        "     \n",
        "**References**\n",
        "\n",
        "   - Belsley, Kuh & Welsch, 'Regression diagnostics: Identifying Influential Data and Sources of Collinearity', Wiley, 1980. 244-261.\n",
        "   - Quinlan,R. (1993). Combining Instance-Based and Model-Based Learning. In Proceedings on the Tenth International Conference of Machine Learning, 236-243, University of Massachusetts, Amherst. Morgan Kaufmann.\n",
        "   - many more! (see https://archive.ics.uci.edu/ml/machine-learning-databases/housing/)\n",
        "\n",
        "\n",
        "\n",
        "\n",
        "\n",
        "<b>Let's get more familiar with the dataset. Load the data by running the following code.</b>\n"
      ]
    },
    {
      "cell_type": "code",
      "metadata": {
        "id": "5hmjoG0VZ2lF"
      },
      "source": [
        "# Loading the data\n",
        "\n",
        "def load_data():\n",
        "    from sklearn.datasets import load_boston\n",
        "    from sklearn.model_selection import train_test_split\n",
        "    \n",
        "    boston = load_boston()\n",
        "    \n",
        "    train_set_x, test_set_x, train_set_y, test_set_y = train_test_split(boston.data, boston.target, test_size=0.33, random_state=42)\n",
        "\n",
        "    train_set_y = train_set_y.reshape((1, train_set_y.shape[0]))\n",
        "    test_set_y = test_set_y.reshape((1, test_set_y.shape[0]))\n",
        "    \n",
        "    return train_set_x.T, train_set_y, test_set_x.T, test_set_y, boston\n",
        "\n",
        "train_set_x, train_set_y, test_set_x, test_set_y, visualization_set = load_data()"
      ],
      "execution_count": null,
      "outputs": []
    },
    {
      "cell_type": "code",
      "metadata": {
        "colab": {
          "base_uri": "https://localhost:8080/"
        },
        "id": "ZH-9YNvRZ2lI",
        "outputId": "fa7821f2-1205-4f89-e657-18210289e6ec"
      },
      "source": [
        "print(train_set_x.shape, train_set_y.shape, test_set_x.shape, test_set_y.shape)"
      ],
      "execution_count": null,
      "outputs": [
        {
          "output_type": "stream",
          "name": "stdout",
          "text": [
            "(13, 339) (1, 339) (13, 167) (1, 167)\n"
          ]
        }
      ]
    },
    {
      "cell_type": "markdown",
      "metadata": {
        "id": "9-yMfTLjZ2lM"
      },
      "source": [
        "Many software bugs in machine learning come from having matrix/vector dimensions that don't fit. If you can keep your matrix/vector dimensions straight you will go a long way toward eliminating many bugs. \n",
        "\n",
        "*Let's find the values for:\n",
        "    - m_train (number of training examples)\n",
        "    - m_test (number of test examples)\n",
        "Remember that `train_set_x` is a numpy-array of shape (number of features, number of examples). For instance, you can access `m_train` by writing `train_set_x.shape[1]`."
      ]
    },
    {
      "cell_type": "code",
      "metadata": {
        "colab": {
          "base_uri": "https://localhost:8080/"
        },
        "id": "khrjBoMQZ2lP",
        "outputId": "f477b83a-44e5-4f47-a789-860bb4f95268"
      },
      "source": [
        "m_train = train_set_x.shape[1]\n",
        "m_test =  test_set_x.shape[1]\n",
        "\n",
        "print (\"Number of training examples: m_train = \" + str(m_train))\n",
        "print (\"Number of testing examples: m_test = \" + str(m_test))\n",
        "\n",
        "print (\"\\ntrain_set_x shape: \" + str(train_set_x.shape))\n",
        "print (\"train_set_y shape: \" + str(train_set_y.shape))\n",
        "print (\"test_set_x shape: \" + str(test_set_x.shape))\n",
        "print (\"test_set_y shape: \" + str(test_set_y.shape))"
      ],
      "execution_count": null,
      "outputs": [
        {
          "output_type": "stream",
          "name": "stdout",
          "text": [
            "Number of training examples: m_train = 339\n",
            "Number of testing examples: m_test = 167\n",
            "\n",
            "train_set_x shape: (13, 339)\n",
            "train_set_y shape: (1, 339)\n",
            "test_set_x shape: (13, 167)\n",
            "test_set_y shape: (1, 167)\n"
          ]
        }
      ]
    },
    {
      "cell_type": "markdown",
      "metadata": {
        "id": "veIUdd0zZ2lU"
      },
      "source": [
        "**Expected Output for m_train, m_test**: \n",
        "<table style=\"width:15%\">\n",
        "  <tr>\n",
        "      <td><b>m_train</b></td>\n",
        "    <td> 339 </td> \n",
        "  </tr>\n",
        "  \n",
        "  <tr>\n",
        "    <td><b>m_test</b></td>\n",
        "    <td> 167 </td> \n",
        "  </tr>\n",
        "</table>\n"
      ]
    },
    {
      "cell_type": "markdown",
      "metadata": {
        "id": "d3OsXloaZ2lY"
      },
      "source": [
        "### Data visualization"
      ]
    },
    {
      "cell_type": "markdown",
      "metadata": {
        "id": "jpq6YjLjZ2lZ"
      },
      "source": [
        "Let's plot a histogram of the quantity we want to predict: namely, the house `price`."
      ]
    },
    {
      "cell_type": "code",
      "metadata": {
        "colab": {
          "base_uri": "https://localhost:8080/",
          "height": 225
        },
        "id": "WZ1kwELpZ2la",
        "outputId": "e24ddad5-b65b-493c-f1b4-aaa5973b024e"
      },
      "source": [
        "plt.figure(figsize=(4, 3))\n",
        "plt.hist(visualization_set.target)\n",
        "plt.xlabel(\"Price ($1000s)\")\n",
        "plt.ylabel(\"Count\")\n",
        "plt.tight_layout()"
      ],
      "execution_count": null,
      "outputs": [
        {
          "output_type": "display_data",
          "data": {
            "image/png": "[encoded data removed]",
            "text/plain": [
              "<Figure size 288x216 with 1 Axes>"
            ]
          },
          "metadata": {
            "needs_background": "light"
          }
        }
      ]
    },
    {
      "cell_type": "markdown",
      "metadata": {
        "id": "4Q40BMc9Z2lc"
      },
      "source": [
        "And it is very useful to understand the join histogram for each feature"
      ]
    },
    {
      "cell_type": "code",
      "metadata": {
        "colab": {
          "base_uri": "https://localhost:8080/",
          "height": 849
        },
        "id": "9VG3rqVkZ2ld",
        "outputId": "cc36c74b-8798-42ff-e22b-044afedda9fc"
      },
      "source": [
        "plt.figure(figsize=(20, 15))\n",
        "\n",
        "for index, feature_name in enumerate(visualization_set.feature_names):\n",
        "\n",
        "    if 0 <= index < 2:\n",
        "      plt.subplot(4,4,index+1)\n",
        "    elif 2 <= index < 4:\n",
        "      plt.subplot(4,4,index+1)\n",
        "    elif 4 <= index < 6:\n",
        "      plt.subplot(4,4,index+1)\n",
        "    elif 6 <= index < 8:\n",
        "      plt.subplot(4,4,index+1)\n",
        "    elif 8 <= index < 10:\n",
        "      plt.subplot(4,4,index+1)\n",
        "    elif 10 <= index < 12:\n",
        "      plt.subplot(4,4,index+1)\n",
        "    else:\n",
        "      break\n",
        "\n",
        "\n",
        "    plt.scatter(visualization_set.data[:, index], visualization_set.target)\n",
        "    plt.ylabel(\"Price\", size=15)\n",
        "    plt.xlabel(feature_name, size=15)\n",
        "    plt.tight_layout()\n"
      ],
      "execution_count": null,
      "outputs": [
        {
          "output_type": "display_data",
          "data": {
            "image/png": "[encoded data removed]",
            "text/plain": [
              "<Figure size 1440x1080 with 12 Axes>"
            ]
          },
          "metadata": {
            "needs_background": "light"
          }
        }
      ]
    },
    {
      "cell_type": "markdown",
      "metadata": {
        "id": "0U2X7AsmZ2le"
      },
      "source": [
        "### Standardization\n",
        "One common preprocessing step in machine learning is to center and standardize your dataset, meaning that you substract the mean of the whole numpy array from each example, and then divide each example by the standard deviation of the whole numpy array.\n",
        "\n",
        "$$X_{new} = \\frac{X - \\mu}{\\sigma}$$\n",
        "\n",
        "Let's standardize our dataset."
      ]
    },
    {
      "cell_type": "code",
      "metadata": {
        "id": "wkVgu4lzZ2lf"
      },
      "source": [
        "all_set_x = np.concatenate([train_set_x, test_set_x], axis=1)\n",
        "\n",
        "mean = all_set_x.mean(axis=1, keepdims=True)\n",
        "std = all_set_x.std(axis=1, keepdims=True)\n",
        "\n",
        "train_set_x = (train_set_x - mean) / std\n",
        "test_set_x = (test_set_x - mean) / std"
      ],
      "execution_count": null,
      "outputs": []
    },
    {
      "cell_type": "markdown",
      "metadata": {
        "id": "oepPmxQnZ2lf"
      },
      "source": [
        "## 3 - General Architecture of the learning algorithm ##\n",
        "\n",
        "**Mathematical expression of the algorithm**:\n",
        "\n",
        "\n",
        "For one example $x^{(i)}$:\n",
        "$$h^{(i)} =  w^T x^{(i)} + b \\tag{1}$$\n",
        "\n",
        "The cost is then computed by summing squared diff over all training examples:\n",
        "$$J = \\frac{1}{2m}\\sum_{i=1}^{m}(h^{(i)} - y^{(i)})^{2}\\tag{2}$$\n",
        "\n",
        "**Key steps**:\n",
        "Now we will have to carry out the following steps: \n",
        "    - Initialize the parameters of the model\n",
        "    - Learn the parameters for the model by minimizing the cost  \n",
        "    - Use the learned parameters to make predictions (on the test set)\n",
        "    - Analyse the results and derive a conclusion"
      ]
    },
    {
      "cell_type": "markdown",
      "metadata": {
        "id": "PE64t1uVZ2lg"
      },
      "source": [
        "## 4 - Building the parts of our algorithm ## \n",
        "\n",
        "The main steps for building a learning algorithm:\n",
        "1. Define the model structure (such as number of input features) \n",
        "2. Initialize the model's parameters\n",
        "3. Loop:\n",
        "    - Calculate current loss (forward propagation)\n",
        "    - Calculate current gradient (backward propagation)\n",
        "    - Update parameters (gradient descent)\n",
        "\n",
        "You often build 1-3 separately and integrate them into one function we call `model()`."
      ]
    },
    {
      "cell_type": "markdown",
      "metadata": {
        "id": "A2XDDolAZ2lh"
      },
      "source": [
        "### 4.1 - Initializing parameters\n",
        "\n",
        "**Exercise:** Implement parameter initialization in the cell below. You have to initialize `w` as a vector of zeros. If you don't know what numpy function to use, look up `np.zeros()` in the Numpy library's documentation."
      ]
    },
    {
      "cell_type": "code",
      "metadata": {
        "id": "6780EKLcZ2lh"
      },
      "source": [
        "# GRADED FUNCTION: initialize_with_zeros\n",
        "\n",
        "def initialize_with_zeros(dim):\n",
        "    \"\"\"\n",
        "    This function creates a vector of zeros of shape (dim, 1) for w and initializes b to 0.\n",
        "    \n",
        "    Argument:\n",
        "    dim -- size of the w vector we want (or number of parameters in this case)\n",
        "    \n",
        "    Returns:\n",
        "    w -- initialized vector of shape (dim, 1)\n",
        "    b -- initialized scalar (corresponds to the bias)\n",
        "    \"\"\"\n",
        "    w = np.zeros((dim,1))\n",
        "    b = 0\n",
        "\n",
        "    assert(w.shape == (dim, 1))\n",
        "    assert(isinstance(b, float) or isinstance(b, int))\n",
        "    \n",
        "    return w, b"
      ],
      "execution_count": null,
      "outputs": []
    },
    {
      "cell_type": "code",
      "metadata": {
        "colab": {
          "base_uri": "https://localhost:8080/"
        },
        "id": "wJXuB9i4Z2li",
        "outputId": "4032d079-f4a2-4c9e-f609-3871614341f8"
      },
      "source": [
        "dim = 2\n",
        "w, b = initialize_with_zeros(dim)\n",
        "print (\"w = \" + str(w))\n",
        "print (\"b = \" + str(b))"
      ],
      "execution_count": null,
      "outputs": [
        {
          "output_type": "stream",
          "name": "stdout",
          "text": [
            "w = [[0.]\n",
            " [0.]]\n",
            "b = 0\n"
          ]
        }
      ]
    },
    {
      "cell_type": "markdown",
      "metadata": {
        "id": "HhAfoY2pZ2li"
      },
      "source": [
        "**Expected Output**: \n",
        "\n",
        "\n",
        "<table style=\"width:15%\">\n",
        "    <tr>\n",
        "        <td style=\"width:10%\"><b>   w   </b></td>\n",
        "        <td> [[ 0.][ 0.]] </td>\n",
        "    </tr>\n",
        "    <tr>\n",
        "        <td><b>   b   </b></td>\n",
        "        <td> 0 </td>\n",
        "    </tr>\n",
        "</table>"
      ]
    },
    {
      "cell_type": "markdown",
      "metadata": {
        "id": "tg0iyuawZ2lj"
      },
      "source": [
        "### 4.2 - Forward and Backward propagation\n",
        "\n",
        "Now that your parameters are initialized, you can do the \"forward\" and \"backward\" propagation steps for learning the parameters.\n",
        "\n",
        "\n",
        "**Hints**:\n",
        "\n",
        "Forward Propagation:\n",
        "- You get X\n",
        "- You compute $H = (w^T X + b) = (h^{(1)}, h^{(2)}, ..., h^{(m-1)}, h^{(m)})$\n",
        "- You calculate the cost function: $J = \\frac{1}{2m}\\sum_{i=1}^{m}(h^{(i)} - y^{(i)})^{2}$\n",
        "\n",
        "\n",
        "Here is the formula of gradient of the cost function: \n",
        "\n",
        "$$ \\frac{\\partial J}{\\partial w} = \\frac{1}{m}X(H-Y)^T\\tag{3}$$\n",
        "$$ \\frac{\\partial J}{\\partial b} = \\frac{1}{m} \\sum_{i=1}^m (h^{(i)}-y^{(i)})\\tag{4}$$\n"
      ]
    },
    {
      "cell_type": "code",
      "metadata": {
        "id": "C3pxPDb3Z2lj"
      },
      "source": [
        "def propagate(w, b, X, Y):\n",
        "    \"\"\"\n",
        "    Implement the cost function and its gradient for the propagation explained above\n",
        "\n",
        "    Arguments:\n",
        "    w -- weights, a numpy array of size (number of features, 1)\n",
        "    b -- bias, a scalar\n",
        "    X -- data of shape (number of features, number of examples)\n",
        "    Y -- results of shape (1, number of examples)\n",
        "    \n",
        "    Return:\n",
        "    cost -- cost function for linear regression\n",
        "    dw -- gradient of the loss with respect to w, thus same shape as w\n",
        "    db -- gradient of the loss with respect to b, thus same shape as b\n",
        "    \n",
        "    \"\"\"\n",
        "    \n",
        "    m = X.shape[1]\n",
        "    \n",
        "    # FORWARD PROPAGATION (FROM X TO COST)\n",
        "    H = np.dot((w.T),X) + b   # compute activation\n",
        "    cost = np.sum(np.power((H - Y),2)) / (2*m)   # compute cost\n",
        "\n",
        "    # BACKWARD PROPAGATION (TO FIND GRAD)\n",
        "    dw = (np.dot(X,(H - Y).T) / m)\n",
        "    db = (np.sum((H - Y)) / m)\n",
        "    \n",
        " \n",
        "\n",
        "    assert(dw.shape == w.shape)\n",
        "    assert(db.dtype == float)\n",
        "    cost = np.squeeze(cost)\n",
        "    assert(cost.shape == ())\n",
        "    \n",
        "    grads = {\"dw\": dw,\n",
        "             \"db\": db}\n",
        "    \n",
        "    return grads, cost"
      ],
      "execution_count": null,
      "outputs": []
    },
    {
      "cell_type": "code",
      "metadata": {
        "colab": {
          "base_uri": "https://localhost:8080/"
        },
        "id": "4NTdu_9WZ2lk",
        "outputId": "e150dc99-5889-400f-a10d-2c4f299c35cb"
      },
      "source": [
        "w, b, X, Y = np.array([[1.],[2.]]), 2., np.array([[1.,2.,-1.],[3.,4.,-3.2]]), np.array([[1,0,1]])\n",
        "grads, cost = propagate(w, b, X, Y)\n",
        "print (\"dw = \" + str(grads[\"dw\"]))\n",
        "print (\"db = \" + str(grads[\"db\"]))\n",
        "print (\"cost = \" + str(cost))\n"
      ],
      "execution_count": null,
      "outputs": [
        {
          "output_type": "stream",
          "name": "stdout",
          "text": [
            "dw = [[12.8       ]\n",
            " [30.82666667]]\n",
            "db = 4.533333333333333\n",
            "cost = 41.49333333333333\n"
          ]
        }
      ]
    },
    {
      "cell_type": "markdown",
      "metadata": {
        "id": "Ok-HC1-pZ2lk"
      },
      "source": [
        "**Expected Output**:\n",
        "\n",
        "<table style=\"width:30%\">\n",
        "    <tr>\n",
        "        <td style=\"width:10%\"><b>   dw   </b></td>\n",
        "      <td> [[ 12.8]\n",
        "     [ 30.82666667]]</td>\n",
        "    </tr>\n",
        "    <tr>\n",
        "        <td><b>   db   </b></td>\n",
        "        <td> 4.533333333333333 </td>\n",
        "    </tr>\n",
        "    <tr>\n",
        "        <td><b>   cost   </b></td>\n",
        "        <td> 41.49333333333333 </td>\n",
        "    </tr>\n",
        "\n",
        "</table>"
      ]
    },
    {
      "cell_type": "markdown",
      "metadata": {
        "id": "Q4rtFj13Z2ll"
      },
      "source": [
        "### 4.3 - Optimization\n",
        "- You have initialized your parameters.\n",
        "- You are also able to compute a cost function and its gradient.\n",
        "- Now, you want to update the parameters using gradient descent.\n",
        "\n",
        " The goal is to learn $w$ and $b$ by minimizing the cost function $J$. For a parameter $\\theta$, the update rule is $ \\theta = \\theta - \\alpha \\text{ } \\partial\\theta$, where $\\alpha$ is the learning rate."
      ]
    },
    {
      "cell_type": "code",
      "metadata": {
        "id": "sPQigp9DZ2ll"
      },
      "source": [
        "# GRADED FUNCTION: optimize\n",
        "\n",
        "def optimize(w, b, X, Y, num_iterations, learning_rate, print_cost=False):\n",
        "    \"\"\"\n",
        "    This function optimizes w and b by running a gradient descent algorithm\n",
        "    \n",
        "    Arguments:\n",
        "    w -- weights, a numpy array of size (number of features, 1)\n",
        "    b -- bias, a scalar\n",
        "    X -- data of shape (number of features, number of examples)\n",
        "    Y -- results of shape (1, number of examples)\n",
        "    num_iterations -- number of iterations of the optimization loop\n",
        "    learning_rate -- learning rate of the gradient descent update rule\n",
        "    print_cost -- True to print the loss every 100 steps\n",
        "    \n",
        "    Returns:\n",
        "    params -- dictionary containing the weights w and bias b\n",
        "    grads -- dictionary containing the gradients of the weights and bias with respect to the cost function\n",
        "    costs -- list of all the costs computed during the optimization, this will be used to plot the learning curve.\n",
        "    \"\"\"\n",
        "    \n",
        "    costs = []\n",
        "    \n",
        "    for i in range(num_iterations):\n",
        "        \n",
        "        \n",
        "        # Cost and gradient calculation\n",
        "        grads, cost = propagate(w, b, X, Y)\n",
        "\n",
        "\n",
        "        # Retrieve derivatives from grads\n",
        "        dw = grads[\"dw\"]\n",
        "        db = grads[\"db\"]\n",
        "        \n",
        "        # update rule \n",
        "        w = w - (learning_rate * dw)\n",
        "        b = b - (learning_rate * db)\n",
        "        \n",
        "        # Record the costs\n",
        "        if i % 100 == 0:\n",
        "            costs.append(cost)\n",
        "        \n",
        "        # Print the cost every 100 training iterations\n",
        "        if print_cost and i % 100 == 0:\n",
        "            print (\"Cost after iteration %i: %f\" %(i, cost))\n",
        "    \n",
        "    params = {\"w\": w,\n",
        "              \"b\": b}\n",
        "    \n",
        "    grads = {\"dw\": dw,\n",
        "             \"db\": db}\n",
        "    \n",
        "    return params, grads, costs"
      ],
      "execution_count": null,
      "outputs": []
    },
    {
      "cell_type": "code",
      "metadata": {
        "colab": {
          "base_uri": "https://localhost:8080/"
        },
        "id": "aPtXcu3AZ2lm",
        "outputId": "597fb14f-deca-46dd-a4b3-a624bc27473e"
      },
      "source": [
        "params, grads, costs = optimize(w, b, X, Y, num_iterations=100, learning_rate=0.009, print_cost=False)\n",
        "\n",
        "print (\"w = \" + str(params[\"w\"]))\n",
        "print (\"b = \" + str(params[\"b\"]))\n",
        "print (\"dw = \" + str(grads[\"dw\"]))\n",
        "print (\"db = \" + str(grads[\"db\"]))"
      ],
      "execution_count": null,
      "outputs": [
        {
          "output_type": "stream",
          "name": "stdout",
          "text": [
            "w = [[-0.04675219]\n",
            " [-0.12676061]]\n",
            "b = 1.223758731602527\n",
            "dw = [[ 0.12274692]\n",
            " [-0.09406359]]\n",
            "db = 0.3683397115660049\n"
          ]
        }
      ]
    },
    {
      "cell_type": "markdown",
      "metadata": {
        "id": "ThnAXazrZ2ln"
      },
      "source": [
        "**Expected Output**: \n",
        "\n",
        "<table style=\"width:35%\">\n",
        "    <tr>\n",
        "        <td style=\"width:10%\"><b>w</b></td>\n",
        "       <td>[[-0.04675219][-0.12676061]] </td>\n",
        "    </tr>\n",
        "    <tr>\n",
        "       <td><b>b</b></td>\n",
        "       <td> 1.223758731602527 </td>\n",
        "    </tr>\n",
        "    <tr>\n",
        "       <td><b>dw</b></td>\n",
        "       <td> [[ 0.12274692]\n",
        "            [-0.09406359]] </td>\n",
        "    </tr>\n",
        "    <tr>\n",
        "       <td><b>db</b></td>\n",
        "       <td> 0.36833971156600487 </td>\n",
        "    </tr>\n",
        "\n",
        "</table>"
      ]
    },
    {
      "cell_type": "markdown",
      "metadata": {
        "id": "wT8UEEZYZ2ln"
      },
      "source": [
        "\n",
        "\n",
        "Calculate $H = w^T X + b$"
      ]
    },
    {
      "cell_type": "code",
      "metadata": {
        "id": "bvb0FrV3Z2lo"
      },
      "source": [
        "# GRADED FUNCTION: predict\n",
        "\n",
        "def predict(w, b, X):\n",
        "    \"\"\"\n",
        "    Predict using learned linear regression parameters (w, b)\n",
        "\n",
        "    Arguments:\n",
        "    w -- weights, a numpy array of size (number of features, 1)\n",
        "    b -- bias, a scalar\n",
        "    X -- data of shape (number of features, number of examples)\n",
        "\n",
        "    Returns:\n",
        "    H -- a numpy array (vector) containing all predictions for the examples in X\n",
        "    \"\"\"\n",
        "\n",
        "    m = X.shape[1]\n",
        "\n",
        "    # Computing vector H\n",
        "    H = np.dot(w.T, X) + b\n",
        "\n",
        "\n",
        "    # small tests to make sure variables are correct type\n",
        "    assert (H.shape == (1, m))\n",
        "\n",
        "    return H"
      ],
      "execution_count": null,
      "outputs": []
    },
    {
      "cell_type": "code",
      "metadata": {
        "colab": {
          "base_uri": "https://localhost:8080/"
        },
        "id": "0wthTM36Z2lo",
        "outputId": "58fdde7d-2c67-46cd-ba5c-c0991974f2b5"
      },
      "source": [
        "w = np.array([[0.1124579],[0.23106775]])\n",
        "b = -0.3\n",
        "X = np.array([[1.,-1.1,-3.2],[1.2,2.,0.1]])\n",
        "print (\"predictions = \" + str(predict(w, b, X)))"
      ],
      "execution_count": null,
      "outputs": [
        {
          "output_type": "stream",
          "name": "stdout",
          "text": [
            "predictions = [[ 0.0897392   0.03843181 -0.6367585 ]]\n"
          ]
        }
      ]
    },
    {
      "cell_type": "markdown",
      "metadata": {
        "id": "UitDKHw-Z2lp"
      },
      "source": [
        "**Expected Output**: \n",
        "\n",
        "<table style=\"width:30%\">\n",
        "    <tr>\n",
        "         <td>\n",
        "             <b>predictions</b>\n",
        "         </td>\n",
        "          <td>\n",
        "            [[ 0.0897392   0.03843181 -0.6367585]]\n",
        "         </td>  \n",
        "   </tr>\n",
        "\n",
        "</table>\n"
      ]
    },
    {
      "cell_type": "markdown",
      "metadata": {
        "id": "NIbVMUVdZ2lp"
      },
      "source": [
        "<font color='green'>\n",
        "    <b>What to remember:</b>\n",
        "You've implemented several functions that:\n",
        "- Initialize (w,b)\n",
        "- Optimize the loss iteratively to learn parameters (w,b):\n",
        "    - computing the cost and its gradient \n",
        "    - updating the parameters using gradient descent\n",
        "- Use the learned (w,b) to predict the value for a given set of examples"
      ]
    },
    {
      "cell_type": "markdown",
      "metadata": {
        "id": "hpK_ODCnZ2lp"
      },
      "source": [
        "## 5 - Merge all functions into a model ##\n",
        "\n",
        "You will now see how the overall model is structured by putting together all the building blocks (functions implemented in the previous parts) together, in the right order.\n"
      ]
    },
    {
      "cell_type": "code",
      "metadata": {
        "id": "0oRRiOnCZ2lp"
      },
      "source": [
        "# GRADED FUNCTION: model\n",
        "\n",
        "\n",
        "def model(X_train, Y_train, X_test, Y_test, num_iterations=3000, learning_rate=0.5, print_cost=False):\n",
        "    \"\"\"\n",
        "    Builds the linear regression model by calling the function you've implemented previously\n",
        "\n",
        "    Arguments:\n",
        "    X_train -- training set represented by a numpy array of shape (number of features, m_train)\n",
        "    Y_train -- training values represented by a numpy array (vector) of shape (1, m_train)\n",
        "    X_test -- test set represented by a numpy array of shape (number of features, m_test)\n",
        "    Y_test -- test values represented by a numpy array (vector) of shape (1, m_test)\n",
        "    num_iterations -- hyperparameter representing the number of iterations to optimize the parameters\n",
        "    learning_rate -- hyperparameter representing the learning rate used in the update rule of optimize()\n",
        "    print_cost -- Set to true to print the cost every 100 iterations\n",
        "\n",
        "    Returns:\n",
        "    d -- dictionary containing information about the model.\n",
        "    \"\"\"\n",
        "\n",
        "\n",
        "    # initialize parameters with zeros\n",
        "    w, b = initialize_with_zeros(X_train.shape[0])\n",
        "\n",
        "    # Gradient descent\n",
        "    parameters, grads, costs = optimize(w, b, X_train, Y_train, num_iterations, learning_rate, print_cost)\n",
        "\n",
        "    # Retrieve parameters w and b from dictionary \"parameters\"\n",
        "    w = parameters[\"w\"]\n",
        "    b = parameters[\"b\"]\n",
        "\n",
        "    # Predict test/train set examples\n",
        "    Y_prediction_test = predict(w,b,X_test)\n",
        "    Y_prediction_train = predict(w,b,X_train)\n",
        "\n",
        "    # Print train/test Errors (RMSE stands for Root Mean Square Error)\n",
        "    print(\"Train RMSE: {} \".format(np.sqrt(np.mean((Y_prediction_train - Y_train) ** 2))))\n",
        "    print(\"Test RMSE: {} \".format(np.sqrt(np.mean((Y_prediction_test - Y_test) ** 2))))\n",
        "\n",
        "    d = {\"costs\": costs,\n",
        "         \"Y_prediction_test\": Y_prediction_test,\n",
        "         \"Y_prediction_train\": Y_prediction_train,\n",
        "         \"w\": w,\n",
        "         \"b\": b,\n",
        "         \"learning_rate\": learning_rate,\n",
        "         \"num_iterations\": num_iterations}\n",
        "\n",
        "    return d"
      ],
      "execution_count": null,
      "outputs": []
    },
    {
      "cell_type": "markdown",
      "metadata": {
        "id": "PPGBtGrSZ2lq"
      },
      "source": [
        "Run the following cell to train your model."
      ]
    },
    {
      "cell_type": "code",
      "metadata": {
        "colab": {
          "base_uri": "https://localhost:8080/"
        },
        "id": "VnAHn90ZZ2lq",
        "outputId": "612d989f-10b7-4f5a-fb6f-54a65af569de"
      },
      "source": [
        "d = model(train_set_x, train_set_y, test_set_x, test_set_y, num_iterations=3000, learning_rate=0.05, print_cost=True)"
      ],
      "execution_count": null,
      "outputs": [
        {
          "output_type": "stream",
          "name": "stdout",
          "text": [
            "Cost after iteration 0: 307.900929\n",
            "Cost after iteration 100: 11.793240\n",
            "Cost after iteration 200: 11.585346\n",
            "Cost after iteration 300: 11.532792\n",
            "Cost after iteration 400: 11.512307\n",
            "Cost after iteration 500: 11.502701\n",
            "Cost after iteration 600: 11.497843\n",
            "Cost after iteration 700: 11.495317\n",
            "Cost after iteration 800: 11.493990\n",
            "Cost after iteration 900: 11.493291\n",
            "Cost after iteration 1000: 11.492921\n",
            "Cost after iteration 1100: 11.492726\n",
            "Cost after iteration 1200: 11.492623\n",
            "Cost after iteration 1300: 11.492569\n",
            "Cost after iteration 1400: 11.492540\n",
            "Cost after iteration 1500: 11.492525\n",
            "Cost after iteration 1600: 11.492517\n",
            "Cost after iteration 1700: 11.492513\n",
            "Cost after iteration 1800: 11.492510\n",
            "Cost after iteration 1900: 11.492509\n",
            "Cost after iteration 2000: 11.492509\n",
            "Cost after iteration 2100: 11.492508\n",
            "Cost after iteration 2200: 11.492508\n",
            "Cost after iteration 2300: 11.492508\n",
            "Cost after iteration 2400: 11.492508\n",
            "Cost after iteration 2500: 11.492508\n",
            "Cost after iteration 2600: 11.492508\n",
            "Cost after iteration 2700: 11.492508\n",
            "Cost after iteration 2800: 11.492508\n",
            "Cost after iteration 2900: 11.492508\n",
            "Train RMSE: 4.794269062398092 \n",
            "Test RMSE: 4.5523720631974145 \n"
          ]
        }
      ]
    },
    {
      "cell_type": "markdown",
      "metadata": {
        "id": "LotEUjOhZ2lq"
      },
      "source": [
        "**Expected Output**: \n",
        "\n",
        "<table style=\"width:35%\"> \n",
        "    <tr>\n",
        "        <td style=\"width:35%\"><b>Cost after iteration 0</b></td> \n",
        "        <td> 307.900929 </td>\n",
        "    </tr>\n",
        "      <tr>\n",
        "        <td> <center> $\\vdots$ </center> </td> \n",
        "        <td> <center> $\\vdots$ </center> </td> \n",
        "    </tr>  \n",
        "    <tr>\n",
        "        <td><b>Train RMSE</b></td> \n",
        "        <td> 4.7941103172540895 </td>\n",
        "    </tr>\n",
        "    <tr>\n",
        "        <td><b>Test RMSE</b></td> \n",
        "        <td> 4.5549106456768715 </td>\n",
        "    </tr>\n",
        "</table> "
      ]
    },
    {
      "cell_type": "markdown",
      "metadata": {
        "id": "qBABnsfqZ2lr"
      },
      "source": [
        "### Predicted vs True visualization "
      ]
    },
    {
      "cell_type": "code",
      "metadata": {
        "colab": {
          "base_uri": "https://localhost:8080/",
          "height": 369
        },
        "id": "LnCpad6nZ2lr",
        "outputId": "4293402a-8bd4-4c1e-88a1-69407c3070fd"
      },
      "source": [
        "# Training set\n",
        "plt.figure(figsize=(12, 5))\n",
        "\n",
        "plt.subplot(1,2,1)\n",
        "plt.title(\"Training set\")\n",
        "plt.scatter(train_set_y, d[\"Y_prediction_train\"])\n",
        "plt.plot([0, 50], [0, 50], \"--k\")\n",
        "plt.axis(\"tight\")\n",
        "plt.xlabel(\"True price ($1000s)\")\n",
        "plt.ylabel(\"Predicted price ($1000s)\")\n",
        "plt.tight_layout()\n",
        "\n",
        "# Test set\n",
        "plt.subplot(1,2,2)\n",
        "plt.title(\"Test set\")\n",
        "plt.scatter(test_set_y, d[\"Y_prediction_test\"])\n",
        "plt.plot([0, 50], [0, 50], \"--k\")\n",
        "plt.axis(\"tight\")\n",
        "plt.xlabel(\"True price ($1000s)\")\n",
        "plt.ylabel(\"Predicted price ($1000s)\")\n",
        "plt.tight_layout()"
      ],
      "execution_count": null,
      "outputs": [
        {
          "output_type": "display_data",
          "data": {
            "image/png": "[encoded data removed]",
            "text/plain": [
              "<Figure size 864x360 with 2 Axes>"
            ]
          },
          "metadata": {
            "needs_background": "light"
          }
        }
      ]
    },
    {
      "cell_type": "markdown",
      "metadata": {
        "id": "zRYPTXGOZ2lr"
      },
      "source": [
        "**Interpretation**:\n",
        "You can see that in fact there is nice linear dependecy between predicted and true values."
      ]
    }
  ]
}