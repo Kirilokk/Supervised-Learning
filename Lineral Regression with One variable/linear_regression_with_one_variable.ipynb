{
  "nbformat": 4,
  "nbformat_minor": 0,
  "metadata": {
    "colab": {
      "name": "linear_regression_with_one_variable.ipynb",
      "provenance": [],
      "collapsed_sections": []
    },
    "kernelspec": {
      "display_name": "Python 3",
      "language": "python",
      "name": "python3"
    },
    "language_info": {
      "codemirror_mode": {
        "name": "ipython",
        "version": 3
      },
      "file_extension": ".py",
      "mimetype": "text/x-python",
      "name": "python",
      "nbconvert_exporter": "python",
      "pygments_lexer": "ipython3",
      "version": "3.7.7"
    }
  },
  "cells": [
    {
      "cell_type": "markdown",
      "metadata": {
        "id": "Zf3lciEqn7-Y"
      },
      "source": [
        "# Linear Regression with one variable\n",
        "\n"
      ]
    },
    {
      "cell_type": "markdown",
      "metadata": {
        "id": "CYAHd0Gen7-a"
      },
      "source": [
        "## 1 - Packages ##\n",
        "\n",
        "First, let's run the cell below to import all the packages that we will need during this assignment. \n",
        "- [numpy](www.numpy.org) is the fundamental package for scientific computing with Python.\n",
        "- [matplotlib](http://matplotlib.org) is a famous library to plot graphs in Python."
      ]
    },
    {
      "cell_type": "code",
      "metadata": {
        "colab": {
          "resources": {
            "http://localhost:8080/nbextensions/google.colab/files.js": {
              "data": "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",
              "ok": true,
              "headers": [
                [
                  "content-type",
                  "application/javascript"
                ]
              ],
              "status": 200,
              "status_text": ""
            }
          },
          "base_uri": "https://localhost:8080/",
          "height": 72
        },
        "id": "BIosQV9jn7-a",
        "outputId": "1777d83f-b7f7-40bd-a185-dab7f83b801d"
      },
      "source": [
        "import numpy as np\n",
        "import matplotlib.pyplot as plt\n",
        "\n",
        "%matplotlib inline\n",
        "\n",
        "from google.colab import files\n",
        "#To upload dataset files\n",
        "uploaded = files.upload()"
      ],
      "execution_count": null,
      "outputs": [
        {
          "output_type": "display_data",
          "data": {
            "text/html": [
              "\n",
              "     <input type=\"file\" id=\"files-845528f8-3808-4627-966f-a61828659758\" name=\"files[]\" multiple disabled\n",
              "        style=\"border:none\" />\n",
              "     <output id=\"result-845528f8-3808-4627-966f-a61828659758\">\n",
              "      Upload widget is only available when the cell has been executed in the\n",
              "      current browser session. Please rerun this cell to enable.\n",
              "      </output>\n",
              "      <script src=\"/nbextensions/google.colab/files.js\"></script> "
            ],
            "text/plain": [
              "<IPython.core.display.HTML object>"
            ]
          },
          "metadata": {}
        },
        {
          "output_type": "stream",
          "name": "stdout",
          "text": [
            "Saving kangaroo.csv to kangaroo.csv\n"
          ]
        }
      ]
    },
    {
      "cell_type": "markdown",
      "metadata": {
        "id": "O1cQ3hKSn7-e"
      },
      "source": [
        "## 2 - Overview of the Problem set ##\n",
        "\n",
        "**Problem Statement**: We have a dataset  containing:\n",
        "    - a training set of m_train examples\n",
        "    - a test set of m_test examples\n",
        "\n",
        "Let's get more familiar with the dataset. Load the data by running the following code."
      ]
    },
    {
      "cell_type": "code",
      "metadata": {
        "id": "OMj2MqS1n7-e"
      },
      "source": [
        "# Loading the data\n",
        "\n",
        "def load_data():\n",
        "    from sklearn.model_selection import train_test_split\n",
        "\n",
        "    data = np.genfromtxt('kangaroo.csv', delimiter=',')\n",
        "    \n",
        "    x = data[:, 0]\n",
        "    y = data[:, 1]\n",
        "    \n",
        "    train_set_x, test_set_x, train_set_y, test_set_y = train_test_split(x, y, test_size=0.33, random_state=42)\n",
        "\n",
        "\n",
        "    return train_set_x, test_set_x, train_set_y, test_set_y\n",
        "\n",
        "train_set_x, test_set_x, train_set_y, test_set_y = load_data()"
      ],
      "execution_count": null,
      "outputs": []
    },
    {
      "cell_type": "markdown",
      "metadata": {
        "id": "Z9FpR2-zn7-j"
      },
      "source": [
        "Many software bugs in machine learning come from having matrix/vector dimensions that don't fit. If you can keep your matrix/vector dimensions straight you will go a long way toward eliminating many bugs. \n",
        "\n",
        "Let's find the values for:\n",
        "    - m_train (number of training examples)\n",
        "    - m_test (number of test examples)\n"
      ]
    },
    {
      "cell_type": "code",
      "metadata": {
        "colab": {
          "base_uri": "https://localhost:8080/"
        },
        "id": "6QyiYK7Mn7-k",
        "outputId": "66e632b2-a198-49f0-d9f1-be853ddd29d5"
      },
      "source": [
        "m_train = train_set_x.shape[0]\n",
        "m_test = test_set_x.shape[0]\n",
        "\n",
        "print (\"Number of training examples: m_train = \" + str(m_train))\n",
        "print (\"Number of testing examples: m_test = \" + str(m_test))\n",
        "print (\"train_set_x shape: \" + str(train_set_x.shape))\n",
        "print (\"train_set_y shape: \" + str(train_set_y.shape))\n",
        "print (\"test_set_x shape: \" + str(test_set_x.shape))\n",
        "print (\"test_set_y shape: \" + str(test_set_y.shape))"
      ],
      "execution_count": null,
      "outputs": [
        {
          "output_type": "stream",
          "name": "stdout",
          "text": [
            "Number of training examples: m_train = 30\n",
            "Number of testing examples: m_test = 15\n",
            "train_set_x shape: (30,)\n",
            "train_set_y shape: (30,)\n",
            "test_set_x shape: (15,)\n",
            "test_set_y shape: (15,)\n"
          ]
        }
      ]
    },
    {
      "cell_type": "markdown",
      "metadata": {
        "id": "rGgoXnawn7-l"
      },
      "source": [
        "**Expected Output for m_train and m_test**: \n",
        "<table>\n",
        "  <tr>\n",
        "    <td>Number of training examples: m_train = 30</td>\n",
        "  </tr>\n",
        "  <tr>\n",
        "    <td>Number of testing examples: m_test = 15</td>\n",
        "  </tr>\n",
        "  <tr>\n",
        "    <td>train_set_x shape: (30,)</td>\n",
        "  </tr>\n",
        "  <tr>\n",
        "    <td>train_set_y shape: (30,)</td>\n",
        "  </tr>\n",
        "   <tr>\n",
        "    <td>test_set_x shape: (15,)</td>\n",
        "  </tr>\n",
        "  <tr>\n",
        "    <td>test_set_y shape: (15,)</td>\n",
        "  </tr>  \n",
        "</table>"
      ]
    },
    {
      "cell_type": "markdown",
      "metadata": {
        "id": "irg0zNM0n7-m"
      },
      "source": [
        "### Data visualization"
      ]
    },
    {
      "cell_type": "code",
      "metadata": {
        "colab": {
          "base_uri": "https://localhost:8080/",
          "height": 350
        },
        "id": "8ehMZXUNn7-m",
        "outputId": "ab27eb80-d912-4979-c8b7-2b24e73da7a2"
      },
      "source": [
        "# Train set\n",
        "plt.figure(figsize=(12, 5))\n",
        "plt.subplot(1,2,1)\n",
        "plt.scatter(train_set_x, train_set_y)\n",
        "plt.title(\"Training set\")\n",
        "plt.xlabel(\"Length\")\n",
        "plt.ylabel(\"Width\")\n",
        "\n",
        "\n",
        "# Test set\n",
        "\n",
        "plt.subplot(1,2,2)\n",
        "plt.scatter(test_set_x, test_set_y)\n",
        "plt.title(\"Test set\")\n",
        "plt.xlabel(\"Length\")\n",
        "plt.ylabel(\"Width\")\n",
        "\n",
        "\n",
        "plt.show()"
      ],
      "execution_count": null,
      "outputs": [
        {
          "output_type": "display_data",
          "data": {
            "image/png": "[encoded data removed]",
            "text/plain": [
              "<Figure size 864x360 with 2 Axes>"
            ]
          },
          "metadata": {
            "needs_background": "light"
          }
        }
      ]
    },
    {
      "cell_type": "markdown",
      "metadata": {
        "id": "LhBfKBk4n7-o"
      },
      "source": [
        "### Standardization\n",
        "One common preprocessing step in machine learning is to center and standardize your dataset, meaning that you substract the mean of the whole numpy array from each example, and then divide each example by the standard deviation of the whole numpy array.\n",
        "\n",
        "$$X_{new}= \\frac{X - \\mu}{\\sigma}$$\n",
        "\n",
        "Let's standardize our dataset."
      ]
    },
    {
      "cell_type": "code",
      "metadata": {
        "id": "HDhE37Aan7-p"
      },
      "source": [
        "mean = np.concatenate([train_set_x,test_set_x]).mean()\n",
        "std = np.concatenate([train_set_x,test_set_x]).std()\n",
        "\n",
        "train_set_x = (train_set_x - mean) / std\n",
        "test_set_x = (test_set_x - mean) / std"
      ],
      "execution_count": null,
      "outputs": []
    },
    {
      "cell_type": "markdown",
      "metadata": {
        "id": "Bba7Qb52n7-r"
      },
      "source": [
        "### Standardized data visualization"
      ]
    },
    {
      "cell_type": "code",
      "metadata": {
        "colab": {
          "base_uri": "https://localhost:8080/",
          "height": 465
        },
        "id": "XRjvqMhjn7-r",
        "outputId": "53c7d28e-b89e-45fe-ef7e-0c84f86d59dc"
      },
      "source": [
        "plt.figure(figsize=(4, 3))\n",
        "plt.scatter(train_set_x, train_set_y)\n",
        "plt.title(\"Training set\")\n",
        "plt.xlabel(\"Length\")\n",
        "plt.ylabel(\"Width\");\n",
        "\n",
        "plt.figure(figsize=(4, 3))\n",
        "plt.scatter(test_set_x, test_set_y)\n",
        "plt.title(\"Test set\")\n",
        "plt.xlabel(\"Length\")\n",
        "plt.ylabel(\"Width\");"
      ],
      "execution_count": null,
      "outputs": [
        {
          "output_type": "display_data",
          "data": {
            "image/png": "[encoded data removed]",
            "text/plain": [
              "<Figure size 288x216 with 1 Axes>"
            ]
          },
          "metadata": {
            "needs_background": "light"
          }
        },
        {
          "output_type": "display_data",
          "data": {
            "image/png": "[encoded data removed]",
            "text/plain": [
              "<Figure size 288x216 with 1 Axes>"
            ]
          },
          "metadata": {
            "needs_background": "light"
          }
        }
      ]
    },
    {
      "cell_type": "markdown",
      "metadata": {
        "id": "4vrMF9_3n7-w"
      },
      "source": [
        "## 3 - General Architecture of the learning algorithm ##\n",
        "\n",
        "**Mathematical expression of the algorithm**:\n",
        "\n",
        "\n",
        "For one example $x^{(i)}$:\n",
        "\n",
        "$$h^{(i)} = \\theta x^{(i)} + b\\tag{1}$$\n",
        "The cost is then computed by summing over all training examples:\n",
        "$$J(\\theta, b) = \\frac{1}{2m}\\sum_{i=1}^{m}(h^{(i)}- y^{(i)})^{2}\\tag{2}$$ \n",
        "\n",
        "Now. we will carry out the following steps: \n",
        "\n",
        "    - Initialize the parameters of the model\n",
        "    - Learn the parameters for the model by minimizing the cost  \n",
        "    - Use the learned parameters to make predictions (on the test set)\n",
        "    - Analyse the results and conclude"
      ]
    },
    {
      "cell_type": "markdown",
      "metadata": {
        "id": "sTai6oVtn7-w"
      },
      "source": [
        "## 4 - Building the parts of our algorithm ## \n",
        "\n",
        "The main steps for building a learning algoritm:\n",
        "1. Define the model structure (such as number of input features) \n",
        "2. Initialize the model's parameters\n",
        "3. Loop:\n",
        "    - Calculate current loss (forward propagation)\n",
        "    - Calculate current gradient (backward propagation)\n",
        "    - Update parameters (gradient descent)\n",
        "\n"
      ]
    },
    {
      "cell_type": "markdown",
      "metadata": {
        "id": "w5qOAQain7-x"
      },
      "source": [
        "### 4.1 - Initializing parameters\n",
        "\n",
        "Let's implement parameter initialization in the cell below. We have to initialize \n",
        "$\\theta$ as zero."
      ]
    },
    {
      "cell_type": "code",
      "metadata": {
        "id": "7yEbtj7on7-x"
      },
      "source": [
        "# GRADED FUNCTION: initialize_with_zeros\n",
        "\n",
        "def initialize_with_zeros():\n",
        "    \"\"\"\n",
        "    This function initializes parameters theta and b as 0.\n",
        "    \n",
        "    Returns:\n",
        "    theta -- initialized scalar parameter\n",
        "    b -- initialized scalar (corresponds to the bias)\n",
        "    \"\"\"\n",
        "    theta = 0\n",
        "    b = 0\n",
        "\n",
        "    assert(isinstance(theta, int))\n",
        "    assert(isinstance(b, int))\n",
        "    \n",
        "    return theta, b"
      ],
      "execution_count": null,
      "outputs": []
    },
    {
      "cell_type": "code",
      "metadata": {
        "colab": {
          "base_uri": "https://localhost:8080/"
        },
        "id": "Ld4GufDfn7-z",
        "outputId": "1ad48067-d02e-4d4e-9a3c-ab703aaf1f94"
      },
      "source": [
        "theta, b = initialize_with_zeros()\n",
        "print (\"theta = \" + str(theta))\n",
        "print (\"b = \" + str(b))"
      ],
      "execution_count": null,
      "outputs": [
        {
          "output_type": "stream",
          "name": "stdout",
          "text": [
            "theta = 0\n",
            "b = 0\n"
          ]
        }
      ]
    },
    {
      "cell_type": "markdown",
      "metadata": {
        "id": "Djb2S4Kwn7-1"
      },
      "source": [
        "**Expected Output**: \n",
        "\n",
        "<table>\n",
        "    <tr>\n",
        "        <td>theta = 0</td>\n",
        "    </tr>\n",
        "    <tr>\n",
        "        <td>b = 0</td>\n",
        "    </tr>\n",
        "</table>"
      ]
    },
    {
      "cell_type": "markdown",
      "metadata": {
        "id": "GGCNi1s0n7-1"
      },
      "source": [
        "### 4.2 - Forward and Backward propagation\n",
        "\n",
        "Now that your parameters are initialized, you can do the \"forward\" and \"backward\" propagation steps for learning the parameters.\n",
        "\n",
        "Forward Propagation:\n",
        "- You get X\n",
        "- You compute $H = (\\theta X + b) = (h^{(1)}, h^{(2)}, ..., h^{(m-1)}, h^{(m)})$\n",
        "- You calculate the cost function: $J(\\theta, b) = \\frac{1}{2m}\\sum_{i=1}^{m}(h^{(i)} - y^{(i)})^{2}$\n",
        "\n",
        "\n",
        "Here is the formula of gradient of the cost function: \n",
        "\n",
        "$$ \\frac{\\partial J}{\\partial \\theta} = \\frac{1}{m}X(H-Y)^T\\tag{3}$$\n",
        "$$ \\frac{\\partial J}{\\partial b} = \\frac{1}{m} \\sum_{i=1}^m (h^{(i)}-y^{(i)})\\tag{4}$$\n"
      ]
    },
    {
      "cell_type": "code",
      "metadata": {
        "id": "fv3K9lt7n7-2"
      },
      "source": [
        "def propagate(theta, b, X, Y):\n",
        "    \"\"\"\n",
        "    Implement the cost function and its gradient for the propagation explained above\n",
        "\n",
        "    Arguments:\n",
        "    theta -- parameter, a scalar\n",
        "    b -- bias, a scalar\n",
        "    X -- features vector of size (number of examples, )\n",
        "    Y -- results vector (number of examples, )\n",
        "\n",
        "    Return:\n",
        "    cost -- cost function for linear regression\n",
        "    dt -- gradient of the loss with respect to theta, thus same shape as theta\n",
        "    db -- gradient of the loss with respect to b, thus same shape as b\n",
        "    \"\"\"\n",
        "    \n",
        "    m = X.shape[0]\n",
        "    \n",
        "    # FORWARD PROPAGATION (FROM X TO COST)\n",
        "    H = np.dot(X,theta) + b        # compute activation\n",
        "    cost = np.sum(np.power((H - Y),2)) / (2*m)     # compute cost\n",
        "\n",
        "    # BACKWARD PROPAGATION (TO FIND GRAD)\n",
        "    dt = (np.dot((H - Y),X.T) / m)\n",
        "    db = (np.sum((H - Y)) / m)\n",
        "\n",
        "    assert(dt.dtype == float)\n",
        "    assert(db.dtype == float)\n",
        "    cost = np.squeeze(cost)\n",
        "    assert(cost.shape == ())\n",
        "    \n",
        "    grads = {\"dt\": dt,\n",
        "             \"db\": db}\n",
        "    \n",
        "    return grads, cost\n",
        "    \n"
      ],
      "execution_count": null,
      "outputs": []
    },
    {
      "cell_type": "code",
      "metadata": {
        "colab": {
          "base_uri": "https://localhost:8080/"
        },
        "id": "K5Zudl1yn7-5",
        "outputId": "dbfb77b5-2c61-4342-c3c5-ddfaca8a2f57"
      },
      "source": [
        "theta, b, X, Y = 1., 2., np.array([0.1, 0.2, 0.3, 0.4, 0.5, 0.6]), np.array([2, 3, 4, 5, 6, 7])\n",
        "grads, cost = propagate(theta, b, X, Y)\n",
        "print (\"dt = \" + str(grads[\"dt\"]))\n",
        "print (\"db = \" + str(grads[\"db\"]))\n",
        "print (\"cost = \" + str(cost))\n"
      ],
      "execution_count": null,
      "outputs": [
        {
          "output_type": "stream",
          "name": "stdout",
          "text": [
            "dt = -1.015\n",
            "db = -2.15\n",
            "cost = 3.4925\n"
          ]
        }
      ]
    },
    {
      "cell_type": "markdown",
      "metadata": {
        "id": "Cb6q9bEHn7-8"
      },
      "source": [
        "**Expected Output**:\n",
        "\n",
        "<table>\n",
        "    <tr>\n",
        "        <td>dt = -1.015</td>\n",
        "    </tr>\n",
        "    <tr>\n",
        "        <td>db = -2.15</td>\n",
        "    </tr>\n",
        "    <tr>\n",
        "        <td>cost = 3.4925</td>\n",
        "    </tr>\n",
        "</table>"
      ]
    },
    {
      "cell_type": "markdown",
      "metadata": {
        "id": "YGIqE0Jpn7-9"
      },
      "source": [
        "### 4.3 - Optimization\n",
        "- We have initialized your parameters.\n",
        "- We are also able to compute a cost function and its gradient.\n",
        "- Now, We want to update the parameters using gradient descent.\n",
        "\n",
        "The goal is to learn $\\theta$ and $b$ by minimizing the cost function $J$. For a parameter $\\theta$, the update rule is $ \\theta = \\theta - \\alpha \\text{ } \\partial{}J$, where $\\alpha$ is the learning rate."
      ]
    },
    {
      "cell_type": "code",
      "metadata": {
        "id": "YR_M-wiXn7--"
      },
      "source": [
        "# GRADED FUNCTION: optimize\n",
        "\n",
        "def optimize(theta, b, X, Y, num_iterations, learning_rate, print_cost=False):\n",
        "    \"\"\"\n",
        "    This function optimizes theta and b by running a gradient descent algorithm\n",
        "    \n",
        "    Arguments:\n",
        "    theta -- parameter, a scalar\n",
        "    b -- bias, a scalar\n",
        "    X -- features vector of shape (number of examples, )\n",
        "    Y -- results vector of shape (number of examples, )\n",
        "    num_iterations -- number of iterations of the optimization loop\n",
        "    learning_rate -- learning rate of the gradient descent update rule\n",
        "    print_cost -- True to print the loss every 100 steps\n",
        "    \n",
        "    Returns:\n",
        "    params -- dictionary containing the weights theta and bias b\n",
        "    grads -- dictionary containing the gradients of the weights and bias with respect to the cost function\n",
        "    costs -- list of all the costs computed during the optimization, this will be used to plot the learning curve.\n",
        "    \"\"\"\n",
        "    \n",
        "    costs = []\n",
        "    \n",
        "    for i in range(num_iterations):\n",
        "        \n",
        "        \n",
        "        # Cost and gradient calculation\n",
        "        grads, cost = propagate(theta, b, X, Y)\n",
        "\n",
        "        # Retrieve derivatives from grads\n",
        "        dt = grads[\"dt\"]\n",
        "        db = grads[\"db\"]\n",
        "        # update rule\n",
        "        theta =  theta  - (learning_rate * dt)\n",
        "        b     =  b      - (learning_rate * db)\n",
        "    \n",
        "        # Record the costs\n",
        "        if i % 100 == 0:\n",
        "            costs.append(cost)\n",
        "        \n",
        "        # Print the cost every 100 training iterations\n",
        "        if print_cost and i % 100 == 0:\n",
        "            print (\"Cost after iteration %i: %f\" %(i, cost))\n",
        "    \n",
        "    params = {\"theta\": theta,\n",
        "              \"b\": b}\n",
        "    \n",
        "    grads = {\"dt\": dt,\n",
        "             \"db\": db}\n",
        "    \n",
        "    return params, grads, costs"
      ],
      "execution_count": null,
      "outputs": []
    },
    {
      "cell_type": "code",
      "metadata": {
        "colab": {
          "base_uri": "https://localhost:8080/"
        },
        "id": "-vcWkBHKn7_A",
        "outputId": "42c2026a-4c02-457c-8ee3-f5238f8b58b1"
      },
      "source": [
        "params, grads, costs = optimize(theta, b, X, Y, num_iterations=100, learning_rate=0.009, print_cost=False)\n",
        "print (\"theta = \" + str(params[\"theta\"]))\n",
        "print (\"b = \" + str(params[\"b\"]))\n",
        "print (\"dt = \" + str(grads[\"dt\"]))\n",
        "print (\"db = \" + str(grads[\"db\"]))\n"
      ],
      "execution_count": null,
      "outputs": [
        {
          "output_type": "stream",
          "name": "stdout",
          "text": [
            "theta = 1.6451645666550938\n",
            "b = 3.1951480476314393\n",
            "dt = -0.5018556276988992\n",
            "db = -0.7372605441640054\n"
          ]
        }
      ]
    },
    {
      "cell_type": "markdown",
      "metadata": {
        "id": "DlEL9EcMn7_C"
      },
      "source": [
        "**Expected Output**: \n",
        "\n",
        "<table>\n",
        "    <tr>\n",
        "       <td>theta = 1.6451645666550938</td>\n",
        "       <td>   </td>\n",
        "    </tr>\n",
        "    <tr>\n",
        "       <td>b = 3.1951480476314393</td>\n",
        "       <td>  </td>\n",
        "    </tr>\n",
        "    <tr>\n",
        "       <td>dt = -0.5018556276988992</td>\n",
        "       <td> </td>\n",
        "    </tr>\n",
        "    <tr>\n",
        "       <td>db =  -0.7372605441640054</td>\n",
        "       <td> </td>\n",
        "    </tr>\n",
        "</table>"
      ]
    },
    {
      "cell_type": "markdown",
      "metadata": {
        "id": "Q0MXWhvpn7_C"
      },
      "source": [
        " The previous function will output the learned $\\theta$ and $b$. We are able to use $\\theta$ and $b$ to predict the labels for a dataset X. Implement the `predict()` function. It must calculate $H = \\theta X + b$.\n"
      ]
    },
    {
      "cell_type": "code",
      "metadata": {
        "id": "yXUKoHwhn7_D"
      },
      "source": [
        "# GRADED FUNCTION: predict\n",
        "\n",
        "def predict(theta, b, X):\n",
        "    \"\"\"\n",
        "    Predict using learned linear regression parameters (theta, b)\n",
        "    \n",
        "    Arguments:\n",
        "    theta -- parameter, a scalar\n",
        "    b -- bias, a scalar\n",
        "    X -- features vector of size (number of examples, )\n",
        "    \n",
        "    Returns:\n",
        "    Y_prediction -- a numpy array (vector) containing all predictions for the examples in X\n",
        "    \"\"\"\n",
        "    \n",
        "    # Compute vector \"Y_prediction\" predicting the width of a kangoroo nasal\n",
        "    Y_prediction = (X * theta) + b\n",
        "\n",
        "    return Y_prediction"
      ],
      "execution_count": null,
      "outputs": []
    },
    {
      "cell_type": "code",
      "metadata": {
        "colab": {
          "base_uri": "https://localhost:8080/"
        },
        "id": "DL05357Qn7_E",
        "outputId": "8957c013-171f-48ee-af7d-1b42a8793cd8"
      },
      "source": [
        "theta = 0.1124579\n",
        "b = -0.3\n",
        "X = np.array([1., -1.1, -3.2, 1.2, 2., 0.1])\n",
        "print (\"predictions = \" + str(predict(theta, b, X)))"
      ],
      "execution_count": null,
      "outputs": [
        {
          "output_type": "stream",
          "name": "stdout",
          "text": [
            "predictions = [-0.1875421  -0.42370369 -0.65986528 -0.16505052 -0.0750842  -0.28875421]\n"
          ]
        }
      ]
    },
    {
      "cell_type": "markdown",
      "metadata": {
        "id": "G_zp8Fz1n7_G"
      },
      "source": [
        "**Expected Output**: \n",
        "\n",
        "<table>\n",
        "    <tr>\n",
        "         <td>\n",
        "             predictions = [-0.1875421  -0.42370369 -0.65986528 -0.16505052 -0.0750842  -0.28875421]\n",
        "         </td>\n",
        "   </tr>\n",
        "</table>\n"
      ]
    },
    {
      "cell_type": "markdown",
      "metadata": {
        "id": "lLeEhD1_n7_H"
      },
      "source": [
        "## 5 - Merge all functions into a model ##\n",
        "\n",
        "Implement the model function. Use the following notation: \n",
        "    - Y_prediction_test for your predictions on the test set\n",
        "    - Y_prediction_train for your predictions on the train set\n",
        "    - theta, costs, grads for the outputs of optimize()"
      ]
    },
    {
      "cell_type": "code",
      "metadata": {
        "id": "UU1SpM-zn7_I"
      },
      "source": [
        "# GRADED FUNCTION: model\n",
        "\n",
        "def model(X_train, Y_train, X_test, Y_test, num_iterations=2000, learning_rate=0.5, print_cost=False):\n",
        "    \"\"\"\n",
        "    Builds the linear regression model by calling the function you've implemented previously\n",
        "    \n",
        "    Arguments:\n",
        "    X_train -- training set represented by a numpy array of shape (m_train, )\n",
        "    Y_train -- training values represented by a numpy array (vector) of shape (m_train, )\n",
        "    X_test -- test set represented by a numpy array of shape (m_test, )\n",
        "    X_test -- test values represented by a numpy array (vector) of shape (m_test, )\n",
        "    num_iterations -- hyperparameter representing the number of iterations to optimize the parameters\n",
        "    learning_rate -- hyperparameter representing the learning rate used in the update rule of optimize()\n",
        "    print_cost -- Set to true to print the cost every 100 iterations\n",
        "    \n",
        "    Returns:\n",
        "    d -- dictionary containing information about the model.\n",
        "    \"\"\"\n",
        "    \n",
        "   \n",
        "    # initialize parameters with zeros \n",
        "    theta, b = initialize_with_zeros()\n",
        "\n",
        "    # Gradient descent\n",
        "    parameters, grads, costs = optimize(theta, b, X_train, Y_train, num_iterations, learning_rate, print_cost)\n",
        "    \n",
        "\n",
        "    # Retrieve parameters w and b from dictionary \"parameters\"\n",
        "    theta = parameters[\"theta\"]\n",
        "    b = parameters[\"b\"]\n",
        "\n",
        "    # Predict test/train set examples\n",
        "    Y_prediction_test =  predict(theta,b,X_test)\n",
        "    Y_prediction_train = predict(theta,b,X_train)\n",
        "\n",
        "    # Print train/test Errors\n",
        "    print (\"Train RMSE: {} \".format(np.sqrt(np.mean((Y_prediction_train - Y_train) ** 2))))\n",
        "    print (\"Test RMSE: {} \".format(np.sqrt(np.mean((Y_prediction_test - Y_test) ** 2))))\n",
        "    \n",
        "    d = {\"costs\": costs,\n",
        "         \"Y_prediction_test\": Y_prediction_test, \n",
        "         \"Y_prediction_train\" : Y_prediction_train, \n",
        "         \"theta\" : theta, \n",
        "         \"b\" : b,\n",
        "         \"learning_rate\" : learning_rate,\n",
        "         \"num_iterations\": num_iterations}\n",
        "    \n",
        "    return d"
      ],
      "execution_count": null,
      "outputs": []
    },
    {
      "cell_type": "code",
      "metadata": {
        "colab": {
          "base_uri": "https://localhost:8080/"
        },
        "id": "fD31EzjLn7_J",
        "outputId": "f1ee8719-4603-4009-9292-5d431b219194"
      },
      "source": [
        "d = model(train_set_x, train_set_y, test_set_x, test_set_y, num_iterations=500, learning_rate=0.05, print_cost=True)\n"
      ],
      "execution_count": null,
      "outputs": [
        {
          "output_type": "stream",
          "name": "stdout",
          "text": [
            "Cost after iteration 0: 30753.266667\n",
            "Cost after iteration 100: 89.390351\n",
            "Cost after iteration 200: 87.787635\n",
            "Cost after iteration 300: 87.787489\n",
            "Cost after iteration 400: 87.787489\n",
            "Train RMSE: 13.250470884220235 \n",
            "Test RMSE: 16.20421532059726 \n"
          ]
        }
      ]
    },
    {
      "cell_type": "markdown",
      "metadata": {
        "id": "fl84LOXRn7_L"
      },
      "source": [
        "**Expected Output**: \n",
        "\n",
        "<table> \n",
        "    <tr>\n",
        "        <td>Cost after iteration 0:  </td> \n",
        "        <td>30753.266667</td>\n",
        "    </tr>\n",
        "      <tr>\n",
        "        <td> <center> $\\vdots$ </center> </td> \n",
        "        <td> <center> $\\vdots$ </center> </td> \n",
        "    </tr>  \n",
        "    <tr>\n",
        "        <td>Train RMSE:  </td> \n",
        "        <td>13.25047088422024 </td>\n",
        "    </tr>\n",
        "    <tr>\n",
        "        <td>Test RMSE: </td> \n",
        "        <td> 16.20421532059726 </td>\n",
        "    </tr>\n",
        "</table> "
      ]
    },
    {
      "cell_type": "markdown",
      "metadata": {
        "id": "s0wQzIPIn7_L"
      },
      "source": [
        "### Les't check the result"
      ]
    },
    {
      "cell_type": "code",
      "metadata": {
        "colab": {
          "base_uri": "https://localhost:8080/",
          "height": 369
        },
        "id": "jN19yAxrn7_N",
        "outputId": "1771e781-93fa-478d-8142-57ae5c011578"
      },
      "source": [
        "# Training set\n",
        "plt.figure(figsize=(12, 5))\n",
        "plt.title(\"Training set\")\n",
        "\n",
        "plt.subplot(1,2,1)\n",
        "plt.scatter(train_set_x, train_set_y)\n",
        "x = np.array([min(train_set_x), max(train_set_x)])\n",
        "theta = d[\"theta\"]\n",
        "b = d[\"b\"]\n",
        "y = theta * x + b\n",
        "plt.plot(x, y)  \n",
        "plt.axis(\"tight\")\n",
        "plt.xlabel(\"Length\")\n",
        "plt.ylabel(\"Width\");\n",
        "plt.tight_layout()\n",
        "\n",
        "\n",
        "# Test set\n",
        "\n",
        "plt.title(\"Test set\")\n",
        "plt.subplot(1,2,2)\n",
        "plt.scatter(test_set_x, test_set_y)\n",
        "x = np.array([min(test_set_x), max(test_set_x)])\n",
        "theta = d[\"theta\"]\n",
        "b = d[\"b\"]\n",
        "y = theta * x + b\n",
        "plt.plot(x, y)  \n",
        "plt.axis(\"tight\")\n",
        "plt.xlabel(\"Length\")\n",
        "plt.ylabel(\"Width\");\n",
        "plt.tight_layout()"
      ],
      "execution_count": null,
      "outputs": [
        {
          "output_type": "display_data",
          "data": {
            "image/png": "[encoded data removed]",
            "text/plain": [
              "<Figure size 864x360 with 2 Axes>"
            ]
          },
          "metadata": {
            "needs_background": "light"
          }
        }
      ]
    },
    {
      "cell_type": "markdown",
      "metadata": {
        "id": "fT_-mZs5EcxG"
      },
      "source": [
        "##### Linear Regression with one variable Done!"
      ]
    }
  ]
}